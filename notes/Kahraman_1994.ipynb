{
 "cells": [
  {
   "cell_type": "markdown",
   "metadata": {},
   "source": [
    "# Some manipulations on (Kahraman, 1994)"
   ]
  },
  {
   "cell_type": "markdown",
   "metadata": {},
   "source": [
    "[1] A. Kahraman, \"Natural Modes of Planetary Gear Trains\", Journal of Sound and Vibration, vol. 173, no. 1, pp. 125-130, 1994. https://doi.org/10.1006/jsvi.1994.1222."
   ]
  },
  {
   "cell_type": "code",
   "execution_count": 19,
   "metadata": {},
   "outputs": [],
   "source": [
    "from sympy import *\n",
    "init_printing()\n",
    "\n",
    "def symb(x,y):\n",
    "    return symbols('{0}_{1}'.format(x,y), type = float)"
   ]
  },
  {
   "cell_type": "markdown",
   "metadata": {},
   "source": [
    "# Displacement vector:"
   ]
  },
  {
   "cell_type": "code",
   "execution_count": 20,
   "metadata": {},
   "outputs": [
    {
     "output_type": "execute_result",
     "data": {
      "text/plain": "[u_c  uᵣ  uₛ  uₚ₁  uₚ₂  uₚ₃]",
      "text/latex": "$\\displaystyle \\left[\\begin{matrix}u_{c} & u_{r} & u_{s} & u_{p1} & u_{p2} & u_{p3}\\end{matrix}\\right]$"
     },
     "metadata": {},
     "execution_count": 20
    }
   ],
   "source": [
    "n = 3 # number of planets\n",
    "N = n + 3 # number of degrees of freedom\n",
    "crs = ['c', 'r', 's'] # carrier, ring, sun\n",
    "pla = ['p{}'.format(idx + 1) for idx in range(n)] # planet\n",
    "crs = crs + pla # put them together\n",
    "\n",
    "coeff_list = symbols(crs)\n",
    "c = coeff_list[0]\n",
    "r = coeff_list[1]\n",
    "s = coeff_list[2]\n",
    "\n",
    "X = Matrix([symb('u', v) for v in coeff_list])\n",
    "coeff_list[3:] = symbols(['p']*n)\n",
    "p = coeff_list[3]\n",
    "X.transpose() # Eq. (1a)"
   ]
  },
  {
   "cell_type": "markdown",
   "metadata": {},
   "source": [
    "## Stiffness matrix:\n",
    "![alt text](stiffness_matrix.png)\n",
    "\n",
    "where:\n",
    "* $k_1$: mesh stiffness for the ring-planet gear pair\n",
    "* $k_2$: mesh stiffness for the sun-planet gear pair\n",
    "* $k_c$: carrier housing stiffness\n",
    "* $k_r$: ring housing stiffness\n",
    "* $k_s$: sun housing stiffness\n",
    "* Diagonal 1, in red\n",
    "* Diagonal 2, in grey\n",
    "* Off-diagonal, in blue"
   ]
  },
  {
   "cell_type": "code",
   "execution_count": 21,
   "metadata": {},
   "outputs": [
    {
     "output_type": "execute_result",
     "data": {
      "text/plain": "⎡3⋅k₁ + 3⋅k₂ + k_c    -3⋅k₁      -3⋅k₂    k₁ - k₂  k₁ - k₂  k₁ - k₂⎤\n⎢                                                                  ⎥\n⎢      -3⋅k₁        3⋅k₁ + kᵣ      0        -k₁      -k₁      -k₁  ⎥\n⎢                                                                  ⎥\n⎢      -3⋅k₂            0      3⋅k₂ + kₛ    k₂       k₂       k₂   ⎥\n⎢                                                                  ⎥\n⎢     k₁ - k₂          -k₁        k₂      k₁ + k₂     0        0   ⎥\n⎢                                                                  ⎥\n⎢     k₁ - k₂          -k₁        k₂         0     k₁ + k₂     0   ⎥\n⎢                                                                  ⎥\n⎣     k₁ - k₂          -k₁        k₂         0        0     k₁ + k₂⎦",
      "text/latex": "$\\displaystyle \\left[\\begin{matrix}3 k_{1} + 3 k_{2} + k_{c} & - 3 k_{1} & - 3 k_{2} & k_{1} - k_{2} & k_{1} - k_{2} & k_{1} - k_{2}\\\\- 3 k_{1} & 3 k_{1} + k_{r} & 0 & - k_{1} & - k_{1} & - k_{1}\\\\- 3 k_{2} & 0 & 3 k_{2} + k_{s} & k_{2} & k_{2} & k_{2}\\\\k_{1} - k_{2} & - k_{1} & k_{2} & k_{1} + k_{2} & 0 & 0\\\\k_{1} - k_{2} & - k_{1} & k_{2} & 0 & k_{1} + k_{2} & 0\\\\k_{1} - k_{2} & - k_{1} & k_{2} & 0 & 0 & k_{1} + k_{2}\\end{matrix}\\right]$"
     },
     "metadata": {},
     "execution_count": 21
    }
   ],
   "source": [
    "k_1, k_2, k_c, k_r, k_s = symbols('k_1 k_2 k_c k_r k_s', type = float)\n",
    "\n",
    "# Diagonal 1:\n",
    "K_d1 = zeros(3, 3)\n",
    "\n",
    "K_d1[0, 0] = n*(k_1 + k_2) + k_c\n",
    "K_d1[1, 1] = n* k_1 + k_r\n",
    "K_d1[2, 2] = n* k_2 + k_s\n",
    "K_d1[0, 1] = K_d1[1, 0] = -n*k_1\n",
    "K_d1[0, 2] = K_d1[2, 0] = -n*k_2\n",
    "\n",
    "# Diagonal 2:\n",
    "K_d2 = eye(n)*(k_1 + k_2)\n",
    "\n",
    "# Off diagonal:\n",
    "K_od = zeros(n, n)\n",
    "K_od[:, 0] = (k_1 - k_2)*ones(n, 1)\n",
    "K_od[:, 1] = -k_1       *ones(n, 1)\n",
    "K_od[:, 2] =        k_2 *ones(n, 1)\n",
    "\n",
    "K = BlockMatrix([[K_d1, K_od.transpose()],\n",
    "                 [K_od, K_d2]])\n",
    "K = Matrix(K)\n",
    "\n",
    "if(not K.is_symmetric()):\n",
    "    print('error.')\n",
    "K"
   ]
  },
  {
   "cell_type": "markdown",
   "metadata": {},
   "source": [
    "## Inertia matrix:"
   ]
  },
  {
   "cell_type": "code",
   "execution_count": 22,
   "metadata": {},
   "outputs": [
    {
     "output_type": "execute_result",
     "data": {
      "text/plain": "⎡m_c  0   0   0   0   0 ⎤\n⎢                       ⎥\n⎢ 0   mᵣ  0   0   0   0 ⎥\n⎢                       ⎥\n⎢ 0   0   mₛ  0   0   0 ⎥\n⎢                       ⎥\n⎢ 0   0   0   mₚ  0   0 ⎥\n⎢                       ⎥\n⎢ 0   0   0   0   mₚ  0 ⎥\n⎢                       ⎥\n⎣ 0   0   0   0   0   mₚ⎦",
      "text/latex": "$\\displaystyle \\left[\\begin{matrix}m_{c} & 0 & 0 & 0 & 0 & 0\\\\0 & m_{r} & 0 & 0 & 0 & 0\\\\0 & 0 & m_{s} & 0 & 0 & 0\\\\0 & 0 & 0 & m_{p} & 0 & 0\\\\0 & 0 & 0 & 0 & m_{p} & 0\\\\0 & 0 & 0 & 0 & 0 & m_{p}\\end{matrix}\\right]$"
     },
     "metadata": {},
     "execution_count": 22
    }
   ],
   "source": [
    "M = diag(*[symb('m', v) for v in coeff_list])\n",
    "M"
   ]
  },
  {
   "cell_type": "markdown",
   "metadata": {},
   "source": [
    "## Remove ring degree of freedom"
   ]
  },
  {
   "cell_type": "code",
   "execution_count": 23,
   "metadata": {},
   "outputs": [],
   "source": [
    "X.row_del(1)\n",
    "K.row_del(1)\n",
    "K.col_del(1)\n",
    "M.row_del(1)\n",
    "M.col_del(1)\n",
    "coeff_list.remove(r)\n",
    "N = N - 1"
   ]
  },
  {
   "cell_type": "markdown",
   "metadata": {},
   "source": [
    "## Coordinate transformation:\n",
    "\n",
    "First from translational to torsional coordinates, them making the sun DOF to be the last one, making it easier to assemble a multi-stage gearbox."
   ]
  },
  {
   "cell_type": "code",
   "execution_count": 24,
   "metadata": {},
   "outputs": [
    {
     "output_type": "execute_result",
     "data": {
      "text/plain": "⎡r_c  0   0   0   0 ⎤\n⎢                   ⎥\n⎢ 0   rₛ  0   0   0 ⎥\n⎢                   ⎥\n⎢ 0   0   rₚ  0   0 ⎥\n⎢                   ⎥\n⎢ 0   0   0   rₚ  0 ⎥\n⎢                   ⎥\n⎣ 0   0   0   0   rₚ⎦",
      "text/latex": "$\\displaystyle \\left[\\begin{matrix}r_{c} & 0 & 0 & 0 & 0\\\\0 & r_{s} & 0 & 0 & 0\\\\0 & 0 & r_{p} & 0 & 0\\\\0 & 0 & 0 & r_{p} & 0\\\\0 & 0 & 0 & 0 & r_{p}\\end{matrix}\\right]$"
     },
     "metadata": {},
     "execution_count": 24
    }
   ],
   "source": [
    "R_1 = diag(*[symb('r', v) for v in coeff_list])\n",
    "R_1"
   ]
  },
  {
   "cell_type": "markdown",
   "metadata": {},
   "source": [
    "making the sun DOF to be the last one:"
   ]
  },
  {
   "cell_type": "code",
   "execution_count": 25,
   "metadata": {},
   "outputs": [
    {
     "output_type": "execute_result",
     "data": {
      "text/plain": "⎡1  0  0  0  0⎤\n⎢             ⎥\n⎢0  0  0  0  1⎥\n⎢             ⎥\n⎢0  1  0  0  0⎥\n⎢             ⎥\n⎢0  0  1  0  0⎥\n⎢             ⎥\n⎣0  0  0  1  0⎦",
      "text/latex": "$\\displaystyle \\left[\\begin{matrix}1 & 0 & 0 & 0 & 0\\\\0 & 0 & 0 & 0 & 1\\\\0 & 1 & 0 & 0 & 0\\\\0 & 0 & 1 & 0 & 0\\\\0 & 0 & 0 & 1 & 0\\end{matrix}\\right]$"
     },
     "metadata": {},
     "execution_count": 25
    }
   ],
   "source": [
    "N1 = N - 1\n",
    "\n",
    "R_2 = zeros(N, N)\n",
    "R_2[0, 0] = 1\n",
    "R_2[1, N1] = 1\n",
    "R_2[2:N, 1:N1] = eye(n)\n",
    "R_2"
   ]
  },
  {
   "cell_type": "code",
   "execution_count": 26,
   "metadata": {},
   "outputs": [],
   "source": [
    "R = R_1*R_2\n",
    "RMR = lambda m: transpose(R)*m*R"
   ]
  },
  {
   "cell_type": "markdown",
   "metadata": {},
   "source": [
    "### Inertia matrix"
   ]
  },
  {
   "cell_type": "code",
   "execution_count": 27,
   "metadata": {},
   "outputs": [
    {
     "output_type": "execute_result",
     "data": {
      "text/plain": "⎡       2                                ⎤\n⎢m_c⋅r_c     0       0       0       0   ⎥\n⎢                                        ⎥\n⎢               2                        ⎥\n⎢   0      mₚ⋅rₚ     0       0       0   ⎥\n⎢                                        ⎥\n⎢                       2                ⎥\n⎢   0        0     mₚ⋅rₚ     0       0   ⎥\n⎢                                        ⎥\n⎢                               2        ⎥\n⎢   0        0       0     mₚ⋅rₚ     0   ⎥\n⎢                                        ⎥\n⎢                                       2⎥\n⎣   0        0       0       0     mₛ⋅rₛ ⎦",
      "text/latex": "$\\displaystyle \\left[\\begin{matrix}m_{c} r_{c}^{2} & 0 & 0 & 0 & 0\\\\0 & m_{p} r_{p}^{2} & 0 & 0 & 0\\\\0 & 0 & m_{p} r_{p}^{2} & 0 & 0\\\\0 & 0 & 0 & m_{p} r_{p}^{2} & 0\\\\0 & 0 & 0 & 0 & m_{s} r_{s}^{2}\\end{matrix}\\right]$"
     },
     "metadata": {},
     "execution_count": 27
    }
   ],
   "source": [
    "M = RMR(M)\n",
    "\n",
    "if(not M.is_symmetric()):\n",
    "    print('error in M matrix')\n",
    "M"
   ]
  },
  {
   "cell_type": "markdown",
   "metadata": {},
   "source": [
    "### Stiffness matrix"
   ]
  },
  {
   "cell_type": "code",
   "execution_count": 28,
   "metadata": {},
   "outputs": [],
   "source": [
    "K = RMR(K)\n",
    "\n",
    "if(not K.is_symmetric()):\n",
    "    print('error in K matrix')"
   ]
  },
  {
   "cell_type": "markdown",
   "metadata": {},
   "source": [
    "The housing stiffness for both carrier and sunare null:"
   ]
  },
  {
   "cell_type": "code",
   "execution_count": 29,
   "metadata": {},
   "outputs": [
    {
     "output_type": "execute_result",
     "data": {
      "text/plain": "⎡   2                                                                         \n⎢r_c ⋅(3⋅k₁ + 3⋅k₂)  r_c⋅rₚ⋅(k₁ - k₂)  r_c⋅rₚ⋅(k₁ - k₂)  r_c⋅rₚ⋅(k₁ - k₂)  -3⋅\n⎢                                                                             \n⎢                       2                                                     \n⎢ r_c⋅rₚ⋅(k₁ - k₂)    rₚ ⋅(k₁ + k₂)           0                 0            k\n⎢                                                                             \n⎢                                         2                                   \n⎢ r_c⋅rₚ⋅(k₁ - k₂)          0           rₚ ⋅(k₁ + k₂)           0            k\n⎢                                                                             \n⎢                                                           2                 \n⎢ r_c⋅rₚ⋅(k₁ - k₂)          0                 0           rₚ ⋅(k₁ + k₂)      k\n⎢                                                                             \n⎢                                                                             \n⎣   -3⋅k₂⋅r_c⋅rₛ         k₂⋅rₚ⋅rₛ          k₂⋅rₚ⋅rₛ          k₂⋅rₚ⋅rₛ        3\n\n         ⎤\nk₂⋅r_c⋅rₛ⎥\n         ⎥\n         ⎥\n₂⋅rₚ⋅rₛ  ⎥\n         ⎥\n         ⎥\n₂⋅rₚ⋅rₛ  ⎥\n         ⎥\n         ⎥\n₂⋅rₚ⋅rₛ  ⎥\n         ⎥\n      2  ⎥\n⋅k₂⋅rₛ   ⎦",
      "text/latex": "$\\displaystyle \\left[\\begin{matrix}r_{c}^{2} \\left(3 k_{1} + 3 k_{2}\\right) & r_{c} r_{p} \\left(k_{1} - k_{2}\\right) & r_{c} r_{p} \\left(k_{1} - k_{2}\\right) & r_{c} r_{p} \\left(k_{1} - k_{2}\\right) & - 3 k_{2} r_{c} r_{s}\\\\r_{c} r_{p} \\left(k_{1} - k_{2}\\right) & r_{p}^{2} \\left(k_{1} + k_{2}\\right) & 0 & 0 & k_{2} r_{p} r_{s}\\\\r_{c} r_{p} \\left(k_{1} - k_{2}\\right) & 0 & r_{p}^{2} \\left(k_{1} + k_{2}\\right) & 0 & k_{2} r_{p} r_{s}\\\\r_{c} r_{p} \\left(k_{1} - k_{2}\\right) & 0 & 0 & r_{p}^{2} \\left(k_{1} + k_{2}\\right) & k_{2} r_{p} r_{s}\\\\- 3 k_{2} r_{c} r_{s} & k_{2} r_{p} r_{s} & k_{2} r_{p} r_{s} & k_{2} r_{p} r_{s} & 3 k_{2} r_{s}^{2}\\end{matrix}\\right]$"
     },
     "metadata": {},
     "execution_count": 29
    }
   ],
   "source": [
    "K = K.subs([(k_c, 0), (k_s, 0)])\n",
    "K"
   ]
  },
  {
   "cell_type": "markdown",
   "metadata": {},
   "source": [
    "From that, one can write the matrices for a planetary system with $n$-planets using the following code:"
   ]
  },
  {
   "cell_type": "code",
   "execution_count": 30,
   "metadata": {},
   "outputs": [],
   "source": [
    "m_c, m_s, m_p, r_c, r_s, r_p = symbols('m_c m_s m_p r_c r_s r_p', type = float)\n",
    "\n",
    "M_p = zeros(N, N)\n",
    "M_p[0, 0] = m_c*r_c**2\n",
    "M_p[N1, N1] = m_s*r_s**2\n",
    "M_p[1:N1, 1:N1] = m_p*r_p**2 * eye(n)\n",
    "\n",
    "K_p = zeros(N, N)\n",
    "K_p[0, 0] = n*(k_1 + k_2)*r_c**2\n",
    "K_p[N1, 0] = -n*k_2*r_s*r_c\n",
    "K_p[0, N1] = -n*k_2*r_s*r_c\n",
    "K_p[N1, N1] = n*k_2*r_s**2\n",
    "K_p[0, 1:N1] = (k_1 - k_2)*r_c*r_p*ones(1, n)\n",
    "K_p[1:N1, 0] = (k_1 - k_2)*r_c*r_p*ones(n, 1)\n",
    "K_p[N1, 1:N1] = k_2*r_p*r_s*ones(1, n)\n",
    "K_p[1:N1, N1] = k_2*r_p*r_s*ones(n, 1)\n",
    "K_p[1:N1, 1:N1] = (k_1 + k_2)*r_p**2 * eye(n)\n",
    "\n",
    "m_diff = abs(matrix2numpy(simplify(M_p - M))).sum()\n",
    "k_diff = abs(matrix2numpy(simplify(K_p - K))).sum()\n",
    "\n",
    "if(m_diff != 0.0):\n",
    "    print('Error in M matrix.')\n",
    "\n",
    "if(k_diff != 0.0):\n",
    "    print('Error in K matrix.')"
   ]
  },
  {
   "cell_type": "markdown",
   "metadata": {},
   "source": [
    "## Combining planet DOFs:"
   ]
  },
  {
   "cell_type": "code",
   "execution_count": 31,
   "metadata": {},
   "outputs": [],
   "source": [
    "C = zeros(N, 3)\n",
    "C[   0, 0] = 1\n",
    "C[  N1, 2] = 1\n",
    "C[1:N1, 1] = ones(n, 1)\n",
    "\n",
    "CMC = lambda m: transpose(C)*m*C"
   ]
  },
  {
   "cell_type": "markdown",
   "metadata": {},
   "source": [
    "### Inertia matrix"
   ]
  },
  {
   "cell_type": "code",
   "execution_count": 32,
   "metadata": {},
   "outputs": [
    {
     "output_type": "execute_result",
     "data": {
      "text/plain": "⎡       2                  ⎤\n⎢m_c⋅r_c      0        0   ⎥\n⎢                          ⎥\n⎢                 2        ⎥\n⎢   0      3⋅mₚ⋅rₚ     0   ⎥\n⎢                          ⎥\n⎢                         2⎥\n⎣   0         0      mₛ⋅rₛ ⎦",
      "text/latex": "$\\displaystyle \\left[\\begin{matrix}m_{c} r_{c}^{2} & 0 & 0\\\\0 & 3 m_{p} r_{p}^{2} & 0\\\\0 & 0 & m_{s} r_{s}^{2}\\end{matrix}\\right]$"
     },
     "metadata": {},
     "execution_count": 32
    }
   ],
   "source": [
    "M_C = CMC(M)\n",
    "\n",
    "if(not M_C.is_symmetric()):\n",
    "    print('error in M_C matrix')\n",
    "M_C"
   ]
  },
  {
   "cell_type": "markdown",
   "metadata": {},
   "source": [
    "### Stiffness matrix"
   ]
  },
  {
   "cell_type": "code",
   "execution_count": 33,
   "metadata": {},
   "outputs": [
    {
     "output_type": "execute_result",
     "data": {
      "text/plain": "⎡   2                                                ⎤\n⎢r_c ⋅(3⋅k₁ + 3⋅k₂)  3⋅r_c⋅rₚ⋅(k₁ - k₂)  -3⋅k₂⋅r_c⋅rₛ⎥\n⎢                                                    ⎥\n⎢                         2                          ⎥\n⎢3⋅r_c⋅rₚ⋅(k₁ - k₂)   3⋅rₚ ⋅(k₁ + k₂)     3⋅k₂⋅rₚ⋅rₛ ⎥\n⎢                                                    ⎥\n⎢                                                 2  ⎥\n⎣   -3⋅k₂⋅r_c⋅rₛ         3⋅k₂⋅rₚ⋅rₛ        3⋅k₂⋅rₛ   ⎦",
      "text/latex": "$\\displaystyle \\left[\\begin{matrix}r_{c}^{2} \\left(3 k_{1} + 3 k_{2}\\right) & 3 r_{c} r_{p} \\left(k_{1} - k_{2}\\right) & - 3 k_{2} r_{c} r_{s}\\\\3 r_{c} r_{p} \\left(k_{1} - k_{2}\\right) & 3 r_{p}^{2} \\left(k_{1} + k_{2}\\right) & 3 k_{2} r_{p} r_{s}\\\\- 3 k_{2} r_{c} r_{s} & 3 k_{2} r_{p} r_{s} & 3 k_{2} r_{s}^{2}\\end{matrix}\\right]$"
     },
     "metadata": {},
     "execution_count": 33
    }
   ],
   "source": [
    "K_C = CMC(K)\n",
    "\n",
    "if(not K_C.is_symmetric()):\n",
    "    print('error in M_C matrix')\n",
    "K_C"
   ]
  },
  {
   "cell_type": "markdown",
   "metadata": {},
   "source": [
    "## Adapting it to a parallel gear set\n",
    "\n",
    "Considering only one of the sun-planets pairs, one should change the sub-indexes in the following way:\n",
    "* [p]lanet => [w]heel\n",
    "* [s]un    => [p]inion;\n",
    "It also necessary to remove the mesh stiffness of the ring-planet pair\n",
    "### Inertia matrix"
   ]
  },
  {
   "cell_type": "code",
   "execution_count": 34,
   "metadata": {},
   "outputs": [
    {
     "output_type": "execute_result",
     "data": {
      "text/plain": "⎡       2        ⎤\n⎢m_w⋅r_w     0   ⎥\n⎢                ⎥\n⎢               2⎥\n⎣   0      mₚ⋅rₚ ⎦",
      "text/latex": "$\\displaystyle \\left[\\begin{matrix}m_{w} r_{w}^{2} & 0\\\\0 & m_{p} r_{p}^{2}\\end{matrix}\\right]$"
     },
     "metadata": {},
     "execution_count": 34
    }
   ],
   "source": [
    "k, w, p = symbols('k w p', type = float)\n",
    "m_w, m_p, r_w, r_p = symbols('m_w m_p r_w r_p', type = float)\n",
    "\n",
    "N2 = N - 2\n",
    "M_par = M[N2:, N2:]\n",
    "M_par = M_par.subs([(m_p, m_w), (m_s, m_p), (r_p, r_w), (r_s, r_p)]) # \n",
    "M_par"
   ]
  },
  {
   "cell_type": "markdown",
   "metadata": {},
   "source": [
    "### Stiffness matrix"
   ]
  },
  {
   "cell_type": "code",
   "execution_count": 35,
   "metadata": {},
   "outputs": [
    {
     "output_type": "execute_result",
     "data": {
      "text/plain": "⎡      2           ⎤\n⎢ k⋅r_w    k⋅rₚ⋅r_w⎥\n⎢                  ⎥\n⎢               2  ⎥\n⎣k⋅rₚ⋅r_w   k⋅rₚ   ⎦",
      "text/latex": "$\\displaystyle \\left[\\begin{matrix}k r_{w}^{2} & k r_{p} r_{w}\\\\k r_{p} r_{w} & k r_{p}^{2}\\end{matrix}\\right]$"
     },
     "metadata": {},
     "execution_count": 35
    }
   ],
   "source": [
    "K_par = K[N2:, N2:]\n",
    "\n",
    "K_par = K_par.subs(k_1, 0) # ring-planet mesh stiffness\n",
    "K_par = K_par.subs(k_s, 0) # sun's bearing stiffness\n",
    "K_par = K_par.subs(n*k_2, k_2) # only one pair, not n\n",
    "K_par = K_par.subs(k_2, k) # mesh-stiffness of the pair\n",
    "K_par = K_par.subs([(r_p, r_w), (r_s, r_p)])\n",
    "K_par"
   ]
  },
  {
   "cell_type": "markdown",
   "metadata": {},
   "source": [
    "From that, one can write the matrices for a parallel system using the following code:"
   ]
  },
  {
   "cell_type": "code",
   "execution_count": 36,
   "metadata": {
    "scrolled": true
   },
   "outputs": [],
   "source": [
    "M_p = diag(m_w*r_w**2, m_p*r_p**2)\n",
    "\n",
    "mat_diff = abs(matrix2numpy(simplify(M_p - M_par))).sum()\n",
    "if(mat_diff != 0.0):\n",
    "    print('Error in M_p matrix.')\n",
    "\n",
    "K_p       = diag(r_w**2, r_p**2)\n",
    "K_p[0, 1] = r_p*r_w\n",
    "K_p[1, 0] = r_p*r_w\n",
    "K_p       = k*K_p\n",
    "\n",
    "mat_diff = abs(matrix2numpy(simplify(K_p - K_par))).sum()\n",
    "if(mat_diff != 0.0):\n",
    "    print('Error in K_p matrix.')"
   ]
  }
 ],
 "metadata": {
  "kernelspec": {
   "display_name": "Python 3.7.3 64-bit ('base': conda)",
   "language": "python",
   "name": "python37364bitbaseconda210f926cb548430eaeeaaca39b8496cc"
  },
  "language_info": {
   "codemirror_mode": {
    "name": "ipython",
    "version": 3
   },
   "file_extension": ".py",
   "mimetype": "text/x-python",
   "name": "python",
   "nbconvert_exporter": "python",
   "pygments_lexer": "ipython3",
   "version": "3.7.6-final"
  }
 },
 "nbformat": 4,
 "nbformat_minor": 2
}