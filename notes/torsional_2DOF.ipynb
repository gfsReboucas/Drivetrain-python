{
 "nbformat": 4,
 "nbformat_minor": 2,
 "metadata": {
  "language_info": {
   "name": "python",
   "codemirror_mode": {
    "name": "ipython",
    "version": 3
   },
   "version": "3.7.6-final"
  },
  "orig_nbformat": 2,
  "file_extension": ".py",
  "mimetype": "text/x-python",
  "name": "python",
  "npconvert_exporter": "python",
  "pygments_lexer": "ipython3",
  "version": 3,
  "kernelspec": {
   "name": "python37364bitbaseconda210f926cb548430eaeeaaca39b8496cc",
   "display_name": "Python 3.7.3 64-bit ('base': conda)"
  }
 },
 "cells": [
  {
   "cell_type": "markdown",
   "metadata": {},
   "source": [
    "# Some manipulations on the two degree of freedom model"
   ]
  },
  {
   "cell_type": "code",
   "execution_count": 60,
   "metadata": {},
   "outputs": [],
   "source": [
    "from sympy import *\n",
    "init_printing()\n",
    "\n",
    "def symb(x, y = ''):\n",
    "    return symbols('{0}_{1}'.format(x,y), type = float)"
   ]
  },
  {
   "cell_type": "markdown",
   "metadata": {},
   "source": [
    "Displacement vector:"
   ]
  },
  {
   "cell_type": "code",
   "execution_count": 61,
   "metadata": {},
   "outputs": [
    {
     "output_type": "display_data",
     "data": {
      "text/plain": "⎡u_g⎤\n⎢   ⎥\n⎣uᵣ ⎦",
      "text/latex": "$\\displaystyle \\left[\\begin{matrix}u_{g}\\\\u_{r}\\end{matrix}\\right]$"
     },
     "metadata": {}
    }
   ],
   "source": [
    "x = Matrix([symb('u','g'), symb('u','r')])\n",
    "display(x)"
   ]
  },
  {
   "cell_type": "markdown",
   "metadata": {},
   "source": [
    "Inertia matrix:"
   ]
  },
  {
   "cell_type": "code",
   "execution_count": 62,
   "metadata": {},
   "outputs": [
    {
     "output_type": "display_data",
     "data": {
      "text/plain": "⎡Jᵣ    0   ⎤\n⎢          ⎥\n⎢         2⎥\n⎣0   J_g⋅n ⎦",
      "text/latex": "$\\displaystyle \\left[\\begin{matrix}J_{r} & 0\\\\0 & J_{g} n^{2}\\end{matrix}\\right]$"
     },
     "metadata": {}
    }
   ],
   "source": [
    "J_r, J_g, n = symbols('J_r J_g n', positive=True)\n",
    "M = diag(J_r, J_g*n**2)\n",
    "display(M)"
   ]
  },
  {
   "cell_type": "markdown",
   "metadata": {},
   "source": [
    "Stiffness matrix"
   ]
  },
  {
   "cell_type": "code",
   "execution_count": 63,
   "metadata": {},
   "outputs": [
    {
     "output_type": "display_data",
     "data": {
      "text/plain": "⎡k   -k⎤\n⎢      ⎥\n⎣-k  k ⎦",
      "text/latex": "$\\displaystyle \\left[\\begin{matrix}k & - k\\\\- k & k\\end{matrix}\\right]$"
     },
     "metadata": {}
    }
   ],
   "source": [
    "k = symbols('k', positive=True)\n",
    "K = eye(2)\n",
    "K[0, 1] = -1\n",
    "K[1, 0] = -1\n",
    "K = k*K\n",
    "display(K)"
   ]
  },
  {
   "cell_type": "markdown",
   "metadata": {},
   "source": [
    "## Characteristic polynomial"
   ]
  },
  {
   "cell_type": "code",
   "execution_count": 64,
   "metadata": {},
   "outputs": [
    {
     "output_type": "display_data",
     "data": {
      "text/plain": "   ⎛     k      k   ⎞\n-λ⋅⎜-λ + ── + ──────⎟\n   ⎜     Jᵣ        2⎟\n   ⎝          J_g⋅n ⎠",
      "image/png": "[encoded data removed]",
      "text/latex": "$\\displaystyle - \\lambda_{} \\left(- \\lambda_{} + \\frac{k}{J_{r}} + \\frac{k}{J_{g} n^{2}}\\right)$"
     },
     "metadata": {}
    }
   ],
   "source": [
    "lamda = symb('lambda')\n",
    "omega = symb('omega')\n",
    "A = Inverse(M)*K\n",
    "cp = A.charpoly(lamda)\n",
    "cp = factor(cp)\n",
    "display(cp)"
   ]
  }
 ]
}