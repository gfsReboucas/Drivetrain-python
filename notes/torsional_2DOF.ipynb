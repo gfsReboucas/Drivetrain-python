{
 "cells": [
  {
   "cell_type": "markdown",
   "metadata": {},
   "source": [
    "# Some manipulations on the two degree of freedom model"
   ]
  },
  {
   "cell_type": "code",
   "execution_count": 43,
   "metadata": {},
   "outputs": [],
   "source": [
    "from sympy import *\n",
    "init_printing()\n",
    "\n",
    "def symb(x, y = ''):\n",
    "    return symbols('{0}_{1}'.format(x,y), type = float)"
   ]
  },
  {
   "cell_type": "markdown",
   "metadata": {},
   "source": [
    "Displacement vector:"
   ]
  },
  {
   "cell_type": "code",
   "execution_count": 44,
   "metadata": {},
   "outputs": [
    {
     "output_type": "display_data",
     "data": {
      "text/plain": "⎡u_g⎤\n⎢   ⎥\n⎣uᵣ ⎦",
      "text/latex": "$\\displaystyle \\left[\\begin{matrix}u_{g}\\\\u_{r}\\end{matrix}\\right]$"
     },
     "metadata": {}
    }
   ],
   "source": [
    "x = Matrix([symb('u','g'), symb('u','r')])\n",
    "display(x)"
   ]
  },
  {
   "cell_type": "markdown",
   "metadata": {},
   "source": [
    "Inertia matrix:"
   ]
  },
  {
   "cell_type": "code",
   "execution_count": 45,
   "metadata": {},
   "outputs": [
    {
     "output_type": "display_data",
     "data": {
      "text/plain": "⎡J_R    0   ⎤\n⎢           ⎥\n⎢          2⎥\n⎣ 0   J_G⋅u ⎦",
      "text/latex": "$\\displaystyle \\left[\\begin{matrix}J_{R} & 0\\\\0 & J_{G} u^{2}\\end{matrix}\\right]$"
     },
     "metadata": {}
    }
   ],
   "source": [
    "J_r, J_g, u = symbols('J_R J_G u', positive=True)\n",
    "M = diag(J_r, J_g*u**2)\n",
    "display(M)"
   ]
  },
  {
   "cell_type": "markdown",
   "metadata": {},
   "source": [
    "Stiffness matrix"
   ]
  },
  {
   "cell_type": "code",
   "execution_count": 46,
   "metadata": {},
   "outputs": [
    {
     "output_type": "display_data",
     "data": {
      "text/plain": "⎡k   -k⎤\n⎢      ⎥\n⎣-k  k ⎦",
      "text/latex": "$\\displaystyle \\left[\\begin{matrix}k & - k\\\\- k & k\\end{matrix}\\right]$"
     },
     "metadata": {}
    }
   ],
   "source": [
    "k = symbols('k', positive = True)\n",
    "K = eye(2)\n",
    "K[0, 1] = -1\n",
    "K[1, 0] = -1\n",
    "K = k*K\n",
    "display(K)"
   ]
  },
  {
   "cell_type": "markdown",
   "metadata": {},
   "source": [
    "## Characteristic polynomial"
   ]
  },
  {
   "cell_type": "code",
   "execution_count": 47,
   "metadata": {},
   "outputs": [
    {
     "output_type": "display_data",
     "data": {
      "text/plain": "       ⎛         2        ⎞\n 2   λ⋅⎝- J_G⋅k⋅u  - J_R⋅k⎠\nλ  + ──────────────────────\n                    2      \n           J_G⋅J_R⋅u       ",
      "image/png": "[encoded data removed]",
      "text/latex": "$\\displaystyle \\lambda^{2} + \\frac{\\lambda \\left(- J_{G} k u^{2} - J_{R} k\\right)}{J_{G} J_{R} u^{2}}$"
     },
     "metadata": {}
    },
    {
     "output_type": "display_data",
     "data": {
      "text/plain": "     k      k   \nλ - ─── - ──────\n    J_R        2\n          J_G⋅u ",
      "image/png": "[encoded data removed]",
      "text/latex": "$\\displaystyle \\lambda - \\frac{k}{J_{R}} - \\frac{k}{J_{G} u^{2}}$"
     },
     "metadata": {}
    },
    {
     "output_type": "execute_result",
     "data": {
      "text/plain": " k      k   \n─── + ──────\nJ_R        2\n      J_G⋅u ",
      "image/png": "[encoded data removed]",
      "text/latex": "$\\displaystyle \\frac{k}{J_{R}} + \\frac{k}{J_{G} u^{2}}$"
     },
     "metadata": {},
     "execution_count": 47
    }
   ],
   "source": [
    "lamda = symbols('lamda', positive = True)\n",
    "A = Inverse(M)*K\n",
    "cp = A.charpoly(lamda)\n",
    "display(cp.as_expr())\n",
    "eq = simplify(cp/cp.gen)\n",
    "display(eq)\n",
    "simplify(solve(eq, cp.gen)[0])"
   ]
  }
 ],
 "metadata": {
  "language_info": {
   "name": "python",
   "codemirror_mode": {
    "name": "ipython",
    "version": 3
   },
   "version": "3.7.3-final"
  },
  "orig_nbformat": 2,
  "file_extension": ".py",
  "mimetype": "text/x-python",
  "name": "python",
  "npconvert_exporter": "python",
  "pygments_lexer": "ipython3",
  "version": 3,
  "kernelspec": {
   "name": "python37364bitbaseconda210f926cb548430eaeeaaca39b8496cc",
   "display_name": "Python 3.7.3 64-bit ('base': conda)"
  }
 },
 "nbformat": 4,
 "nbformat_minor": 2
}