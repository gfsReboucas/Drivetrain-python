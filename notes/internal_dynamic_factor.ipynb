{
 "cells": [
  {
   "cell_type": "markdown",
   "metadata": {},
   "source": [
    "# 6. Internal dynamic factor\n",
    "\n",
    "Based on:\n",
    "\n",
    "[1] ISO 6336-1:2006 Calculation of load capacity of spur and helical gears -- Part 1: Basic principles, introduction and general influence factors"
   ]
  },
  {
   "cell_type": "code",
   "execution_count": 34,
   "metadata": {},
   "outputs": [],
   "source": [
    "from sympy import *\n",
    "from matplotlib import pyplot\n",
    "from numpy import arange, array\n",
    "init_printing()\n",
    "\n",
    "def symb(x, y, z = ''):\n",
    "    return symbols('{0}_{1}{2}'.format(x, y, z), type = float)"
   ]
  },
  {
   "cell_type": "markdown",
   "metadata": {},
   "source": [
    "### 6.4.2 Method B -- Factor $K_{v-B}$\n",
    "This method is not recommended if:\n",
    "\\begin{align}\n",
    "    \\frac{v z_1}{100} \\sqrt{u^2/(1 + u^2)} < 3 \\mathrm{m/s}\n",
    "\\end{align}\n",
    "\n",
    "## 6.5 Determination using Method B\n",
    "### 6.5.3 Resonance running speed:\n",
    "It is given by:"
   ]
  },
  {
   "cell_type": "code",
   "execution_count": 28,
   "metadata": {},
   "outputs": [
    {
     "data": {
      "image/png": "[encoded data removed]",
      "text/latex": [
       "$\\displaystyle \\frac{30000 \\sqrt{\\frac{c_{\\gamma \\alpha}}{m_{red}}}}{\\pi z_{1}}$"
      ],
      "text/plain": [
       "          __________\n",
       "         ╱ cᵧ ₐₗₚₕₐ \n",
       "30000⋅  ╱  ──────── \n",
       "      ╲╱    m_red   \n",
       "────────────────────\n",
       "        π⋅z₁        "
      ]
     },
     "execution_count": 28,
     "metadata": {},
     "output_type": "execute_result"
    }
   ],
   "source": [
    "u, z1, cga, mRed = symbols('u z_1 c_gamma_alpha m_red')\n",
    "eq6 = 30000/(pi*z1)*sqrt(cga/mRed) # n_E1\n",
    "eq6"
   ]
  },
  {
   "cell_type": "markdown",
   "metadata": {},
   "source": [
    "where $m_{red}$ is the relative mass of a gear pair, i.e. of(?) the mass per face width of each gear, referred to its base radius or to the line of action. It is equal to:"
   ]
  },
  {
   "cell_type": "code",
   "execution_count": 29,
   "metadata": {},
   "outputs": [
    {
     "data": {
      "image/png": "[encoded data removed]",
      "text/latex": [
       "$\\displaystyle \\frac{m^{*}_{1} m^{*}_{2}}{m^{*}_{1} + m^{*}_{2}}$"
      ],
      "text/plain": [
       " m_1__*⋅m_2__* \n",
       "───────────────\n",
       "m_1__* + m_2__*"
      ]
     },
     "execution_count": 29,
     "metadata": {},
     "output_type": "execute_result"
    }
   ],
   "source": [
    "eq7 = symb('m',1,'^*')*symb('m',2,'^*')/(symb('m',1,'^*') + symb('m',2,'^*'))\n",
    "eq7"
   ]
  },
  {
   "cell_type": "markdown",
   "metadata": {},
   "source": [
    "The resonance ratio is the ratio of pinion speed to resonance speed, and it given by:"
   ]
  },
  {
   "cell_type": "code",
   "execution_count": 30,
   "metadata": {},
   "outputs": [
    {
     "data": {
      "image/png": "[encoded data removed]",
      "text/latex": [
       "$\\displaystyle \\frac{\\pi n_{1} z_{1}}{30000 \\sqrt{\\frac{c_{\\gamma \\alpha}}{m_{red}}}}$"
      ],
      "text/plain": [
       "      π⋅n₁⋅z₁       \n",
       "────────────────────\n",
       "          __________\n",
       "         ╱ cᵧ ₐₗₚₕₐ \n",
       "30000⋅  ╱  ──────── \n",
       "      ╲╱    m_red   "
      ]
     },
     "execution_count": 30,
     "metadata": {},
     "output_type": "execute_result"
    }
   ],
   "source": [
    "simplify(symb('n', 1)/eq6)"
   ]
  },
  {
   "cell_type": "code",
   "execution_count": 43,
   "metadata": {},
   "outputs": [
    {
     "data": {
      "text/plain": [
       "Text(0, 0.5, 'Resonance ratio, [-]')"
      ]
     },
     "execution_count": 43,
     "metadata": {},
     "output_type": "execute_result"
    },
    {
     "data": {
      "image/png": "[encoded data removed]",
      "text/plain": [
       "<Figure size 432x288 with 1 Axes>"
      ]
     },
     "metadata": {
      "needs_background": "light"
     },
     "output_type": "display_data"
    }
   ],
   "source": [
    "NS = lambda x: (0.85 if (x >= 100) else 0.5 + 0.35*sqrt(x/100))\n",
    "X = arange(0, 200.0)\n",
    "Y = array([NS(x) for x in X])\n",
    "pyplot.plot(X, Y, 'r-')\n",
    "pyplot.plot(X,1.15*ones(len(X)), 'g:')\n",
    "pyplot.plot(X,1.50*ones(len(X)), 'b-.')\n",
    "pyplot.axis([0, 200, 0.4, 1.8])\n",
    "pyplot.xlabel('specific loading, [N/mm]')\n",
    "pyplot.ylabel('Resonance ratio, [-]')"
   ]
  },
  {
   "cell_type": "markdown",
   "metadata": {},
   "source": [
    "### 6.5.8 Resonance speed for specific gear designs\n",
    "#### 6.5.8.4 Planetary gears\n",
    "See also 6.4.2\n",
    "\n",
    "a) Ring gear connected to the case:"
   ]
  },
  {
   "cell_type": "code",
   "execution_count": null,
   "metadata": {},
   "outputs": [],
   "source": []
  },
  {
   "cell_type": "markdown",
   "metadata": {},
   "source": [
    "### 6.5.9 \n",
    "valid for gear pais with external teeth: spur, single and double helical. "
   ]
  },
  {
   "cell_type": "code",
   "execution_count": 19,
   "metadata": {},
   "outputs": [
    {
     "data": {
      "image/png": "[encoded data removed]",
      "text/latex": [
       "$\\displaystyle \\frac{\\pi d_{m1}^{4}}{8 d_{b1}^{2} \\left(\\frac{1}{\\rho_{2} u^{2} \\left(1 - q_{2}^{4}\\right)} + \\frac{1}{\\rho_{1} \\left(1 - q_{1}^{4}\\right)}\\right)}$"
      ],
      "text/plain": [
       "                      4                 \n",
       "                 π⋅dₘ₁                  \n",
       "────────────────────────────────────────\n",
       "      2 ⎛       1               1      ⎞\n",
       "8⋅d_b1 ⋅⎜─────────────── + ────────────⎟\n",
       "        ⎜    2 ⎛      4⎞      ⎛      4⎞⎟\n",
       "        ⎝ρ₂⋅u ⋅⎝1 - q₂ ⎠   ρ₁⋅⎝1 - q₁ ⎠⎠"
      ]
     },
     "execution_count": 19,
     "metadata": {},
     "output_type": "execute_result"
    }
   ],
   "source": [
    "dm1, db1, rho1, q1, rho2, q2, rho = symbols('d_m1 d_b1 rho_1 q_1 rho_2 q_2 rho')\n",
    "eq30r = dm1**2/(1/(rho1*(1 - q1**4)) + 1/(rho2*(1 - q2**4)*u**2))\n",
    "eq30l = (pi/8)*(dm1/db1)**2\n",
    "eq30 = eq30l*eq30r\n",
    "eq30"
   ]
  },
  {
   "cell_type": "markdown",
   "metadata": {},
   "source": [
    "for pinions and wheels of solid construction: $q_1 = q_2 = 0$."
   ]
  },
  {
   "cell_type": "code",
   "execution_count": 20,
   "metadata": {},
   "outputs": [
    {
     "data": {
      "image/png": "[encoded data removed]",
      "text/latex": [
       "$\\displaystyle \\frac{\\pi d_{m1}^{4} \\rho_{1} \\rho_{2} u^{2}}{8 d_{b1}^{2} \\left(\\rho_{1} + \\rho_{2} u^{2}\\right)}$"
      ],
      "text/plain": [
       "       4        2   \n",
       "  π⋅dₘ₁ ⋅ρ₁⋅ρ₂⋅u    \n",
       "────────────────────\n",
       "      2 ⎛         2⎞\n",
       "8⋅d_b1 ⋅⎝ρ₁ + ρ₂⋅u ⎠"
      ]
     },
     "execution_count": 20,
     "metadata": {},
     "output_type": "execute_result"
    }
   ],
   "source": [
    "eq30 = eq30.subs([(q1, 0), (q2,0)])\n",
    "simplify(eq30)"
   ]
  },
  {
   "cell_type": "markdown",
   "metadata": {},
   "source": [
    "Considering that the gears have the same density, leads to:"
   ]
  },
  {
   "cell_type": "code",
   "execution_count": 21,
   "metadata": {},
   "outputs": [
    {
     "data": {
      "image/png": "[encoded data removed]",
      "text/latex": [
       "$\\displaystyle \\frac{\\pi d_{m1}^{4} \\rho u^{2}}{8 d_{b1}^{2} \\left(u^{2} + 1\\right)}$"
      ],
      "text/plain": [
       "       4    2   \n",
       "  π⋅dₘ₁ ⋅ρ⋅u    \n",
       "────────────────\n",
       "      2 ⎛ 2    ⎞\n",
       "8⋅d_b1 ⋅⎝u  + 1⎠"
      ]
     },
     "execution_count": 21,
     "metadata": {},
     "output_type": "execute_result"
    }
   ],
   "source": [
    "eq30 = eq30.subs([(rho1, rho), (rho2, rho)])\n",
    "simplify(eq30)"
   ]
  },
  {
   "cell_type": "markdown",
   "metadata": {},
   "source": [
    "Notice that altough this expression represents the reduced mass of a gear pair, it does not has units of mass."
   ]
  },
  {
   "cell_type": "code",
   "execution_count": null,
   "metadata": {},
   "outputs": [],
   "source": []
  }
 ],
 "metadata": {
  "kernelspec": {
   "display_name": "Python 3.7.3 64-bit ('base': conda)",
   "language": "python",
   "name": "python37364bitbaseconda210f926cb548430eaeeaaca39b8496cc"
  },
  "language_info": {
   "codemirror_mode": {
    "name": "ipython",
    "version": 3
   },
   "file_extension": ".py",
   "mimetype": "text/x-python",
   "name": "python",
   "nbconvert_exporter": "python",
   "pygments_lexer": "ipython3",
   "version": "3.7.3"
  }
 },
 "nbformat": 4,
 "nbformat_minor": 4
}
