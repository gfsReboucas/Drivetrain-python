{
 "cells": [
  {
   "cell_type": "markdown",
   "metadata": {},
   "source": [
    "# Beam finite element matrices\n",
    "Based on: \\\n",
    "[1] Neto, M. A., Amaro, A., Roseiro, L., Cirne, J., & Leal, R. (2015). Finite Element Method for Beams. In Engineering Computation of Structures: The Finite Element Method (pp. 115–156). Springer International Publishing. http://doi.org/10.1007/978-3-319-17710-6_4\n",
    "\n",
    "\n",
    "The beam finite element, its nodes and degrees-of-freedom (DOFs) can be seen below:\n",
    "![alt text](beam_DOFs.svg)"
   ]
  },
  {
   "cell_type": "code",
   "execution_count": 1,
   "metadata": {},
   "outputs": [],
   "source": [
    "from sympy import *\n",
    "init_printing()\n",
    "\n",
    "\n",
    "def symb(x, y):\n",
    "    return symbols('{0}_{1}'.format(x, y), type = float)\n",
    "\n",
    "\n",
    "E, A, L, G, I_1, I_2, I_3, rho = symbols('E A L G I_1 I_2 I_3 rho', type = float)"
   ]
  },
  {
   "cell_type": "markdown",
   "metadata": {},
   "source": [
    "The finite element matrices should have order 12, accounting for each of the element's DOFs, shown below:"
   ]
  },
  {
   "cell_type": "code",
   "execution_count": 2,
   "metadata": {},
   "outputs": [
    {
     "data": {
      "text/latex": [
       "$\\displaystyle \\left[\\begin{array}{cccccccccccc}u_{1} & u_{2} & u_{3} & u_{4} & u_{5} & u_{6} & u_{7} & u_{8} & u_{9} & u_{10} & u_{11} & u_{12}\\end{array}\\right]$"
      ],
      "text/plain": [
       "[u₁  u₂  u₃  u₄  u₅  u₆  u₇  u₈  u₉  u₁₀  u₁₁  u₁₂]"
      ]
     },
     "execution_count": 2,
     "metadata": {},
     "output_type": "execute_result"
    }
   ],
   "source": [
    "u = Matrix(12, 1, [symb('u', v + 1) for v in range(12)])\n",
    "transpose(u)"
   ]
  },
  {
   "cell_type": "markdown",
   "metadata": {},
   "source": [
    "## Axial deformation along $x_1$\n",
    "In terms of generic coordinates $v_i$:"
   ]
  },
  {
   "cell_type": "code",
   "execution_count": 3,
   "metadata": {},
   "outputs": [
    {
     "data": {
      "text/latex": [
       "$\\displaystyle \\left[\\begin{matrix}v_{1} & v_{2}\\end{matrix}\\right]$"
      ],
      "text/plain": [
       "[v₁  v₂]"
      ]
     },
     "execution_count": 3,
     "metadata": {},
     "output_type": "execute_result"
    }
   ],
   "source": [
    "v_a = Matrix(2, 1, [symb('v', v + 1) for v in range(2)])\n",
    "transpose(v_a)"
   ]
  },
  {
   "cell_type": "markdown",
   "metadata": {},
   "source": [
    "which are equivalent to the $u_i$ coordinates in the following way:\n",
    "$$\n",
    "    \\mathbf{v} = \\mathbf{R} \\mathbf{u},\n",
    "$$\n",
    "where:\n",
    "$$\n",
    "    v_1 = u_1, \\\\\n",
    "    v_2 = u_7,\n",
    "$$\n",
    "with the following coordinate transformation matrix:"
   ]
  },
  {
   "cell_type": "code",
   "execution_count": 4,
   "metadata": {},
   "outputs": [
    {
     "data": {
      "text/latex": [
       "$\\displaystyle \\left[\\begin{array}{cccccccccccc}1 & 0 & 0 & 0 & 0 & 0 & 0 & 0 & 0 & 0 & 0 & 0\\\\0 & 0 & 0 & 0 & 0 & 0 & 1 & 0 & 0 & 0 & 0 & 0\\end{array}\\right]$"
      ],
      "text/plain": [
       "⎡1  0  0  0  0  0  0  0  0  0  0  0⎤\n",
       "⎢                                  ⎥\n",
       "⎣0  0  0  0  0  0  1  0  0  0  0  0⎦"
      ]
     },
     "execution_count": 4,
     "metadata": {},
     "output_type": "execute_result"
    }
   ],
   "source": [
    "R = zeros(12)\n",
    "R[1 - 1, 1 - 1] = 1\n",
    "R[2 - 1, 7 - 1] = 1\n",
    "R[:2, :]"
   ]
  },
  {
   "cell_type": "markdown",
   "metadata": {},
   "source": [
    "### Stiffness matrix\n",
    "Eq. (3.15) of [1]:"
   ]
  },
  {
   "cell_type": "code",
   "execution_count": 5,
   "metadata": {},
   "outputs": [
    {
     "data": {
      "text/latex": [
       "$\\displaystyle \\left[\\begin{matrix}\\frac{A E}{L} & - \\frac{A E}{L}\\\\- \\frac{A E}{L} & \\frac{A E}{L}\\end{matrix}\\right]$"
      ],
      "text/plain": [
       "⎡ A⋅E   -A⋅E ⎤\n",
       "⎢ ───   ─────⎥\n",
       "⎢  L      L  ⎥\n",
       "⎢            ⎥\n",
       "⎢-A⋅E    A⋅E ⎥\n",
       "⎢─────   ─── ⎥\n",
       "⎣  L      L  ⎦"
      ]
     },
     "execution_count": 5,
     "metadata": {},
     "output_type": "execute_result"
    }
   ],
   "source": [
    "K_a = (E * A / L) * Matrix([[1, -1],\n",
    "                            [-1, 1]])\n",
    "K_a"
   ]
  },
  {
   "cell_type": "markdown",
   "metadata": {},
   "source": [
    "### Inertia matrix\n",
    "Eq. (3.16) of [1]:"
   ]
  },
  {
   "cell_type": "code",
   "execution_count": 6,
   "metadata": {},
   "outputs": [
    {
     "data": {
      "text/latex": [
       "$\\displaystyle \\left[\\begin{matrix}\\frac{A L \\rho}{3} & \\frac{A L \\rho}{6}\\\\\\frac{A L \\rho}{6} & \\frac{A L \\rho}{3}\\end{matrix}\\right]$"
      ],
      "text/plain": [
       "⎡A⋅L⋅ρ  A⋅L⋅ρ⎤\n",
       "⎢─────  ─────⎥\n",
       "⎢  3      6  ⎥\n",
       "⎢            ⎥\n",
       "⎢A⋅L⋅ρ  A⋅L⋅ρ⎥\n",
       "⎢─────  ─────⎥\n",
       "⎣  6      3  ⎦"
      ]
     },
     "execution_count": 6,
     "metadata": {},
     "output_type": "execute_result"
    }
   ],
   "source": [
    "M_a = (rho * A * L / 6) * Matrix([[2, 1],\n",
    "                                  [1, 2]])\n",
    "M_a"
   ]
  },
  {
   "cell_type": "markdown",
   "metadata": {},
   "source": [
    "## Torsional deformation around $x_1$\n",
    "According to [1], one can obtain the matrices for the torsional case from the axial case by replacing the elasticity modulus $E$ and the cross-sectional area $A$ by the shear modulus $G$ and the polar area moment of inertia $I_1$.\n",
    "\n",
    "In terms of generic coordinates $v_i$:"
   ]
  },
  {
   "cell_type": "code",
   "execution_count": 7,
   "metadata": {},
   "outputs": [
    {
     "data": {
      "text/latex": [
       "$\\displaystyle \\left[\\begin{matrix}v_{3} & v_{4}\\end{matrix}\\right]$"
      ],
      "text/plain": [
       "[v₃  v₄]"
      ]
     },
     "execution_count": 7,
     "metadata": {},
     "output_type": "execute_result"
    }
   ],
   "source": [
    "v_t = Matrix(2, 1, [symb('v', v + 3) for v in range(2)])\n",
    "transpose(v_t)"
   ]
  },
  {
   "cell_type": "markdown",
   "metadata": {},
   "source": [
    "which are equivalent to the $u_i$ coordinates in the following way:\n",
    "$$\n",
    "    v_3 = u_4, \\\\\n",
    "    v_4 = u_{10},\n",
    "$$\n",
    "with the following coordinate transformation matrix:"
   ]
  },
  {
   "cell_type": "code",
   "execution_count": 8,
   "metadata": {},
   "outputs": [
    {
     "data": {
      "text/latex": [
       "$\\displaystyle \\left[\\begin{array}{cccccccccccc}1 & 0 & 0 & 0 & 0 & 0 & 0 & 0 & 0 & 0 & 0 & 0\\\\0 & 0 & 0 & 0 & 0 & 0 & 1 & 0 & 0 & 0 & 0 & 0\\\\0 & 0 & 0 & 1 & 0 & 0 & 0 & 0 & 0 & 0 & 0 & 0\\\\0 & 0 & 0 & 0 & 0 & 0 & 0 & 0 & 0 & 1 & 0 & 0\\end{array}\\right]$"
      ],
      "text/plain": [
       "⎡1  0  0  0  0  0  0  0  0  0  0  0⎤\n",
       "⎢                                  ⎥\n",
       "⎢0  0  0  0  0  0  1  0  0  0  0  0⎥\n",
       "⎢                                  ⎥\n",
       "⎢0  0  0  1  0  0  0  0  0  0  0  0⎥\n",
       "⎢                                  ⎥\n",
       "⎣0  0  0  0  0  0  0  0  0  1  0  0⎦"
      ]
     },
     "execution_count": 8,
     "metadata": {},
     "output_type": "execute_result"
    }
   ],
   "source": [
    "R[3 - 1,  4 - 1] = 1\n",
    "R[4 - 1, 10 - 1] = 1\n",
    "R[0:4, :]"
   ]
  },
  {
   "cell_type": "markdown",
   "metadata": {},
   "source": [
    "### Stiffness matrix"
   ]
  },
  {
   "cell_type": "code",
   "execution_count": 9,
   "metadata": {},
   "outputs": [
    {
     "data": {
      "text/latex": [
       "$\\displaystyle \\left[\\begin{matrix}\\frac{G I_{1}}{L} & - \\frac{G I_{1}}{L}\\\\- \\frac{G I_{1}}{L} & \\frac{G I_{1}}{L}\\end{matrix}\\right]$"
      ],
      "text/plain": [
       "⎡ G⋅I₁   -G⋅I₁ ⎤\n",
       "⎢ ────   ──────⎥\n",
       "⎢  L       L   ⎥\n",
       "⎢              ⎥\n",
       "⎢-G⋅I₁    G⋅I₁ ⎥\n",
       "⎢──────   ──── ⎥\n",
       "⎣  L       L   ⎦"
      ]
     },
     "execution_count": 9,
     "metadata": {},
     "output_type": "execute_result"
    }
   ],
   "source": [
    "K_t = K_a.subs([(E, G), (A, I_1)])\n",
    "K_t"
   ]
  },
  {
   "cell_type": "markdown",
   "metadata": {},
   "source": [
    "### Inertia matrix"
   ]
  },
  {
   "cell_type": "code",
   "execution_count": 10,
   "metadata": {},
   "outputs": [
    {
     "data": {
      "text/latex": [
       "$\\displaystyle \\left[\\begin{matrix}\\frac{I_{1} L \\rho}{3} & \\frac{I_{1} L \\rho}{6}\\\\\\frac{I_{1} L \\rho}{6} & \\frac{I_{1} L \\rho}{3}\\end{matrix}\\right]$"
      ],
      "text/plain": [
       "⎡I₁⋅L⋅ρ  I₁⋅L⋅ρ⎤\n",
       "⎢──────  ──────⎥\n",
       "⎢  3       6   ⎥\n",
       "⎢              ⎥\n",
       "⎢I₁⋅L⋅ρ  I₁⋅L⋅ρ⎥\n",
       "⎢──────  ──────⎥\n",
       "⎣  6       3   ⎦"
      ]
     },
     "execution_count": 10,
     "metadata": {},
     "output_type": "execute_result"
    }
   ],
   "source": [
    "M_t = M_a.subs([(E, G), (A, I_1)])\n",
    "M_t"
   ]
  },
  {
   "cell_type": "markdown",
   "metadata": {},
   "source": [
    "## Bending on the plane $x_1-x_3$\n",
    "In this case the bending torsion occurs around the $x_2$ axis. In terms of generic coordinates $v_i$:"
   ]
  },
  {
   "cell_type": "code",
   "execution_count": 11,
   "metadata": {},
   "outputs": [
    {
     "data": {
      "text/latex": [
       "$\\displaystyle \\left[\\begin{matrix}v_{9} & v_{10} & v_{11} & v_{12}\\end{matrix}\\right]$"
      ],
      "text/plain": [
       "[v₉  v₁₀  v₁₁  v₁₂]"
      ]
     },
     "execution_count": 11,
     "metadata": {},
     "output_type": "execute_result"
    }
   ],
   "source": [
    "v_b13 = Matrix(4, 1, [symb('v', v + 9) for v in range(4)])\n",
    "transpose(v_b13)"
   ]
  },
  {
   "cell_type": "markdown",
   "metadata": {},
   "source": [
    "which are equivalent to the $u_i$ coordinates in the following way:\n",
    "$$\n",
    "    v_9    = u_3, \\\\\n",
    "    v_{10} = u_5, \\\\\n",
    "    v_{11} = u_9, \\\\\n",
    "    v_{12} = u_{11},\n",
    "$$\n",
    "with the following coordinate transformation matrix:"
   ]
  },
  {
   "cell_type": "code",
   "execution_count": 12,
   "metadata": {},
   "outputs": [
    {
     "data": {
      "text/latex": [
       "$\\displaystyle \\left[\\begin{array}{cccccccccccc}1 & 0 & 0 & 0 & 0 & 0 & 0 & 0 & 0 & 0 & 0 & 0\\\\0 & 0 & 0 & 0 & 0 & 0 & 1 & 0 & 0 & 0 & 0 & 0\\\\0 & 0 & 0 & 1 & 0 & 0 & 0 & 0 & 0 & 0 & 0 & 0\\\\0 & 0 & 0 & 0 & 0 & 0 & 0 & 0 & 0 & 1 & 0 & 0\\\\0 & 0 & 0 & 0 & 0 & 0 & 0 & 0 & 0 & 0 & 0 & 0\\\\0 & 0 & 0 & 0 & 0 & 0 & 0 & 0 & 0 & 0 & 0 & 0\\\\0 & 0 & 0 & 0 & 0 & 0 & 0 & 0 & 0 & 0 & 0 & 0\\\\0 & 0 & 0 & 0 & 0 & 0 & 0 & 0 & 0 & 0 & 0 & 0\\\\0 & 0 & 1 & 0 & 0 & 0 & 0 & 0 & 0 & 0 & 0 & 0\\\\0 & 0 & 0 & 0 & 1 & 0 & 0 & 0 & 0 & 0 & 0 & 0\\\\0 & 0 & 0 & 0 & 0 & 0 & 0 & 0 & 1 & 0 & 0 & 0\\\\0 & 0 & 0 & 0 & 0 & 0 & 0 & 0 & 0 & 0 & 1 & 0\\end{array}\\right]$"
      ],
      "text/plain": [
       "⎡1  0  0  0  0  0  0  0  0  0  0  0⎤\n",
       "⎢                                  ⎥\n",
       "⎢0  0  0  0  0  0  1  0  0  0  0  0⎥\n",
       "⎢                                  ⎥\n",
       "⎢0  0  0  1  0  0  0  0  0  0  0  0⎥\n",
       "⎢                                  ⎥\n",
       "⎢0  0  0  0  0  0  0  0  0  1  0  0⎥\n",
       "⎢                                  ⎥\n",
       "⎢0  0  0  0  0  0  0  0  0  0  0  0⎥\n",
       "⎢                                  ⎥\n",
       "⎢0  0  0  0  0  0  0  0  0  0  0  0⎥\n",
       "⎢                                  ⎥\n",
       "⎢0  0  0  0  0  0  0  0  0  0  0  0⎥\n",
       "⎢                                  ⎥\n",
       "⎢0  0  0  0  0  0  0  0  0  0  0  0⎥\n",
       "⎢                                  ⎥\n",
       "⎢0  0  1  0  0  0  0  0  0  0  0  0⎥\n",
       "⎢                                  ⎥\n",
       "⎢0  0  0  0  1  0  0  0  0  0  0  0⎥\n",
       "⎢                                  ⎥\n",
       "⎢0  0  0  0  0  0  0  0  1  0  0  0⎥\n",
       "⎢                                  ⎥\n",
       "⎣0  0  0  0  0  0  0  0  0  0  1  0⎦"
      ]
     },
     "execution_count": 12,
     "metadata": {},
     "output_type": "execute_result"
    }
   ],
   "source": [
    "R[9  - 1,  3 - 1] = 1\n",
    "R[10 - 1,  5 - 1] = 1\n",
    "R[11 - 1,  9 - 1] = 1\n",
    "R[12 - 1, 11 - 1] = 1\n",
    "R"
   ]
  },
  {
   "cell_type": "markdown",
   "metadata": {},
   "source": [
    "### Stiffness matrix"
   ]
  },
  {
   "cell_type": "code",
   "execution_count": 13,
   "metadata": {},
   "outputs": [
    {
     "data": {
      "text/latex": [
       "$\\displaystyle \\left[\\begin{matrix}\\frac{12 E I_{2}}{L^{3}} & \\frac{6 E I_{2}}{L^{2}} & - \\frac{12 E I_{2}}{L^{3}} & \\frac{6 E I_{2}}{L^{2}}\\\\\\frac{6 E I_{2}}{L^{2}} & \\frac{4 E I_{2}}{L} & - \\frac{6 E I_{2}}{L^{2}} & \\frac{2 E I_{2}}{L}\\\\- \\frac{12 E I_{2}}{L^{3}} & - \\frac{6 E I_{2}}{L^{2}} & \\frac{12 E I_{2}}{L^{3}} & - \\frac{6 E I_{2}}{L^{2}}\\\\\\frac{6 E I_{2}}{L^{2}} & \\frac{2 E I_{2}}{L} & - \\frac{6 E I_{2}}{L^{2}} & \\frac{4 E I_{2}}{L}\\end{matrix}\\right]$"
      ],
      "text/plain": [
       "⎡ 12⋅E⋅I₂    6⋅E⋅I₂   -12⋅E⋅I₂    6⋅E⋅I₂ ⎤\n",
       "⎢ ───────    ──────   ─────────   ────── ⎥\n",
       "⎢     3         2          3         2   ⎥\n",
       "⎢    L         L          L         L    ⎥\n",
       "⎢                                        ⎥\n",
       "⎢ 6⋅E⋅I₂     4⋅E⋅I₂   -6⋅E⋅I₂     2⋅E⋅I₂ ⎥\n",
       "⎢ ──────     ──────   ────────    ────── ⎥\n",
       "⎢    2         L          2         L    ⎥\n",
       "⎢   L                    L               ⎥\n",
       "⎢                                        ⎥\n",
       "⎢-12⋅E⋅I₂   -6⋅E⋅I₂    12⋅E⋅I₂   -6⋅E⋅I₂ ⎥\n",
       "⎢─────────  ────────   ───────   ────────⎥\n",
       "⎢     3         2          3         2   ⎥\n",
       "⎢    L         L          L         L    ⎥\n",
       "⎢                                        ⎥\n",
       "⎢ 6⋅E⋅I₂     2⋅E⋅I₂   -6⋅E⋅I₂     4⋅E⋅I₂ ⎥\n",
       "⎢ ──────     ──────   ────────    ────── ⎥\n",
       "⎢    2         L          2         L    ⎥\n",
       "⎣   L                    L               ⎦"
      ]
     },
     "execution_count": 13,
     "metadata": {},
     "output_type": "execute_result"
    }
   ],
   "source": [
    "K_b13 = (E * I_2 / L**3) * Matrix([[ 12    ,  6 * L   , -12    ,  6 * L   ],\n",
    "                                   [  6 * L,  4 * L**2, - 6 * L,  2 * L**2],\n",
    "                                   [-12    , -6 * L   ,  12    , -6 * L   ],\n",
    "                                   [  6 * L,  2 * L**2, - 6 * L,  4 * L**2]])\n",
    "\n",
    "if (not K_b13.is_symmetric()):\n",
    "    print('Error in K_b13.')\n",
    "K_b13"
   ]
  },
  {
   "cell_type": "markdown",
   "metadata": {},
   "source": [
    "### Inertia matrix"
   ]
  },
  {
   "cell_type": "code",
   "execution_count": 14,
   "metadata": {},
   "outputs": [
    {
     "data": {
      "text/latex": [
       "$\\displaystyle \\left[\\begin{matrix}\\frac{13 A L \\rho}{35} & \\frac{11 A L^{2} \\rho}{210} & \\frac{9 A L \\rho}{70} & - \\frac{13 A L^{2} \\rho}{420}\\\\\\frac{11 A L^{2} \\rho}{210} & \\frac{A L^{3} \\rho}{105} & \\frac{13 A L^{2} \\rho}{420} & - \\frac{A L^{3} \\rho}{140}\\\\\\frac{9 A L \\rho}{70} & \\frac{13 A L^{2} \\rho}{420} & \\frac{13 A L \\rho}{35} & - \\frac{11 A L^{2} \\rho}{210}\\\\- \\frac{13 A L^{2} \\rho}{420} & - \\frac{A L^{3} \\rho}{140} & - \\frac{11 A L^{2} \\rho}{210} & \\frac{A L^{3} \\rho}{105}\\end{matrix}\\right]$"
      ],
      "text/plain": [
       "⎡                   2                        2   ⎤\n",
       "⎢ 13⋅A⋅L⋅ρ    11⋅A⋅L ⋅ρ    9⋅A⋅L⋅ρ    -13⋅A⋅L ⋅ρ ⎥\n",
       "⎢ ────────    ─────────    ───────    ───────────⎥\n",
       "⎢    35          210          70          420    ⎥\n",
       "⎢                                                ⎥\n",
       "⎢       2         3             2          3     ⎥\n",
       "⎢ 11⋅A⋅L ⋅ρ    A⋅L ⋅ρ     13⋅A⋅L ⋅ρ    -A⋅L ⋅ρ   ⎥\n",
       "⎢ ─────────    ──────     ─────────    ────────  ⎥\n",
       "⎢    210        105          420         140     ⎥\n",
       "⎢                                                ⎥\n",
       "⎢                   2                        2   ⎥\n",
       "⎢  9⋅A⋅L⋅ρ    13⋅A⋅L ⋅ρ   13⋅A⋅L⋅ρ    -11⋅A⋅L ⋅ρ ⎥\n",
       "⎢  ───────    ─────────   ────────    ───────────⎥\n",
       "⎢     70         420         35           210    ⎥\n",
       "⎢                                                ⎥\n",
       "⎢       2         3             2          3     ⎥\n",
       "⎢-13⋅A⋅L ⋅ρ   -A⋅L ⋅ρ    -11⋅A⋅L ⋅ρ     A⋅L ⋅ρ   ⎥\n",
       "⎢───────────  ────────   ───────────    ──────   ⎥\n",
       "⎣    420        140          210         105     ⎦"
      ]
     },
     "execution_count": 14,
     "metadata": {},
     "output_type": "execute_result"
    }
   ],
   "source": [
    "M_b13 = (rho * L * A / 420) * Matrix([[ 156    ,  22 * L   ,   54    , -13 * L   ],\n",
    "                                      [  22 * L,   4 * L**2,   13 * L, - 3 * L**2],\n",
    "                                      [  54    ,  13 * L   ,  156    , -22 * L   ],\n",
    "                                      [- 13 * L, - 3 * L**2, - 22 * L,   4 * L**2]])\n",
    "\n",
    "if (not M_b13.is_symmetric()):\n",
    "    print('Error in M_b13.')\n",
    "M_b13"
   ]
  },
  {
   "cell_type": "markdown",
   "metadata": {},
   "source": [
    "## Bending on the plane $x_1-x_2$\n",
    "In this case the bending torsion occurs around the $x_3$ axis, but in the opposite direction. The matrices are similar to the case of bending on the $x_1-x_3$ plane, needing proper coordinate transformation and replacing the index of the area moment of inertia from 2 to 3.\n",
    "\n",
    "Written in terms of generic coordinates $v_i$:"
   ]
  },
  {
   "cell_type": "code",
   "execution_count": 15,
   "metadata": {},
   "outputs": [
    {
     "data": {
      "text/latex": [
       "$\\displaystyle \\left[\\begin{matrix}v_{5} & v_{6} & v_{7} & v_{8}\\end{matrix}\\right]$"
      ],
      "text/plain": [
       "[v₅  v₆  v₇  v₈]"
      ]
     },
     "execution_count": 15,
     "metadata": {},
     "output_type": "execute_result"
    }
   ],
   "source": [
    "v_b12 = Matrix(4, 1, [symb('v', v + 5) for v in range(4)])\n",
    "transpose(v_b12)"
   ]
  },
  {
   "cell_type": "markdown",
   "metadata": {},
   "source": [
    "which are equivalent to the $u_i$ coordinates in the following way:\n",
    "$$\n",
    "    v_5 =  u_2, \\\\\n",
    "    v_6 = -u_6, \\\\\n",
    "    v_7 =  u_8, \\\\\n",
    "    v_8 = -u_{12},\n",
    "$$\n",
    "with the following coordinate transformation matrix:"
   ]
  },
  {
   "cell_type": "code",
   "execution_count": 16,
   "metadata": {},
   "outputs": [],
   "source": [
    "R[5 - 1,  2 - 1] =  1\n",
    "R[6 - 1,  6 - 1] = -1\n",
    "R[7 - 1,  8 - 1] =  1\n",
    "R[8 - 1, 12 - 1] = -1\n",
    "R"
   ]
  },
  {
   "cell_type": "markdown",
   "metadata": {},
   "source": [
    "### Stiffness matrix"
   ]
  },
  {
   "cell_type": "code",
   "execution_count": 17,
   "metadata": {},
   "outputs": [
    {
     "data": {
      "text/latex": [
       "$\\displaystyle \\left[\\begin{matrix}\\frac{12 E I_{3}}{L^{3}} & \\frac{6 E I_{3}}{L^{2}} & - \\frac{12 E I_{3}}{L^{3}} & \\frac{6 E I_{3}}{L^{2}}\\\\\\frac{6 E I_{3}}{L^{2}} & \\frac{4 E I_{3}}{L} & - \\frac{6 E I_{3}}{L^{2}} & \\frac{2 E I_{3}}{L}\\\\- \\frac{12 E I_{3}}{L^{3}} & - \\frac{6 E I_{3}}{L^{2}} & \\frac{12 E I_{3}}{L^{3}} & - \\frac{6 E I_{3}}{L^{2}}\\\\\\frac{6 E I_{3}}{L^{2}} & \\frac{2 E I_{3}}{L} & - \\frac{6 E I_{3}}{L^{2}} & \\frac{4 E I_{3}}{L}\\end{matrix}\\right]$"
      ],
      "text/plain": [
       "⎡ 12⋅E⋅I₃    6⋅E⋅I₃   -12⋅E⋅I₃    6⋅E⋅I₃ ⎤\n",
       "⎢ ───────    ──────   ─────────   ────── ⎥\n",
       "⎢     3         2          3         2   ⎥\n",
       "⎢    L         L          L         L    ⎥\n",
       "⎢                                        ⎥\n",
       "⎢ 6⋅E⋅I₃     4⋅E⋅I₃   -6⋅E⋅I₃     2⋅E⋅I₃ ⎥\n",
       "⎢ ──────     ──────   ────────    ────── ⎥\n",
       "⎢    2         L          2         L    ⎥\n",
       "⎢   L                    L               ⎥\n",
       "⎢                                        ⎥\n",
       "⎢-12⋅E⋅I₃   -6⋅E⋅I₃    12⋅E⋅I₃   -6⋅E⋅I₃ ⎥\n",
       "⎢─────────  ────────   ───────   ────────⎥\n",
       "⎢     3         2          3         2   ⎥\n",
       "⎢    L         L          L         L    ⎥\n",
       "⎢                                        ⎥\n",
       "⎢ 6⋅E⋅I₃     2⋅E⋅I₃   -6⋅E⋅I₃     4⋅E⋅I₃ ⎥\n",
       "⎢ ──────     ──────   ────────    ────── ⎥\n",
       "⎢    2         L          2         L    ⎥\n",
       "⎣   L                    L               ⎦"
      ]
     },
     "execution_count": 17,
     "metadata": {},
     "output_type": "execute_result"
    }
   ],
   "source": [
    "K_b12 = K_b13.subs(I_2, I_3)\n",
    "K_b12"
   ]
  },
  {
   "cell_type": "markdown",
   "metadata": {},
   "source": [
    "### Inertia matrix"
   ]
  },
  {
   "cell_type": "code",
   "execution_count": 18,
   "metadata": {},
   "outputs": [
    {
     "data": {
      "text/latex": [
       "$\\displaystyle \\left[\\begin{matrix}\\frac{13 A L \\rho}{35} & \\frac{11 A L^{2} \\rho}{210} & \\frac{9 A L \\rho}{70} & - \\frac{13 A L^{2} \\rho}{420}\\\\\\frac{11 A L^{2} \\rho}{210} & \\frac{A L^{3} \\rho}{105} & \\frac{13 A L^{2} \\rho}{420} & - \\frac{A L^{3} \\rho}{140}\\\\\\frac{9 A L \\rho}{70} & \\frac{13 A L^{2} \\rho}{420} & \\frac{13 A L \\rho}{35} & - \\frac{11 A L^{2} \\rho}{210}\\\\- \\frac{13 A L^{2} \\rho}{420} & - \\frac{A L^{3} \\rho}{140} & - \\frac{11 A L^{2} \\rho}{210} & \\frac{A L^{3} \\rho}{105}\\end{matrix}\\right]$"
      ],
      "text/plain": [
       "⎡                   2                        2   ⎤\n",
       "⎢ 13⋅A⋅L⋅ρ    11⋅A⋅L ⋅ρ    9⋅A⋅L⋅ρ    -13⋅A⋅L ⋅ρ ⎥\n",
       "⎢ ────────    ─────────    ───────    ───────────⎥\n",
       "⎢    35          210          70          420    ⎥\n",
       "⎢                                                ⎥\n",
       "⎢       2         3             2          3     ⎥\n",
       "⎢ 11⋅A⋅L ⋅ρ    A⋅L ⋅ρ     13⋅A⋅L ⋅ρ    -A⋅L ⋅ρ   ⎥\n",
       "⎢ ─────────    ──────     ─────────    ────────  ⎥\n",
       "⎢    210        105          420         140     ⎥\n",
       "⎢                                                ⎥\n",
       "⎢                   2                        2   ⎥\n",
       "⎢  9⋅A⋅L⋅ρ    13⋅A⋅L ⋅ρ   13⋅A⋅L⋅ρ    -11⋅A⋅L ⋅ρ ⎥\n",
       "⎢  ───────    ─────────   ────────    ───────────⎥\n",
       "⎢     70         420         35           210    ⎥\n",
       "⎢                                                ⎥\n",
       "⎢       2         3             2          3     ⎥\n",
       "⎢-13⋅A⋅L ⋅ρ   -A⋅L ⋅ρ    -11⋅A⋅L ⋅ρ     A⋅L ⋅ρ   ⎥\n",
       "⎢───────────  ────────   ───────────    ──────   ⎥\n",
       "⎣    420        140          210         105     ⎦"
      ]
     },
     "execution_count": 18,
     "metadata": {},
     "output_type": "execute_result"
    }
   ],
   "source": [
    "M_b12 = M_b13\n",
    "if (not M_b12.is_symmetric()):\n",
    "    print('Error in M_b12.')\n",
    "M_b12"
   ]
  },
  {
   "cell_type": "markdown",
   "metadata": {},
   "source": [
    "## Assembly of the full matrices\n",
    "Accounting for axial loads, torques and bending in both planes."
   ]
  },
  {
   "cell_type": "code",
   "execution_count": 19,
   "metadata": {},
   "outputs": [
    {
     "data": {
      "text/latex": [
       "$\\displaystyle \\left[\\begin{array}{cccccccccccc}u_{1} & u_{5} & u_{9} & u_{3} & u_{10} & - u_{6} & u_{2} & u_{7} & u_{11} & u_{4} & u_{12} & - u_{8}\\end{array}\\right]$"
      ],
      "text/plain": [
       "[u₁  u₅  u₉  u₃  u₁₀  -u₆  u₂  u₇  u₁₁  u₄  u₁₂  -u₈]"
      ]
     },
     "execution_count": 19,
     "metadata": {},
     "output_type": "execute_result"
    }
   ],
   "source": [
    "RAR = lambda A: transpose(R)*A*R\n",
    "transpose(R**-1*u)"
   ]
  },
  {
   "cell_type": "code",
   "execution_count": 20,
   "metadata": {},
   "outputs": [
    {
     "data": {
      "text/latex": [
       "$\\displaystyle \\left[\\begin{array}{cccccccccccc}\\frac{A E}{L} & 0 & 0 & 0 & 0 & 0 & - \\frac{A E}{L} & 0 & 0 & 0 & 0 & 0\\\\0 & \\frac{12 E I_{3}}{L^{3}} & 0 & 0 & 0 & - \\frac{6 E I_{3}}{L^{2}} & 0 & - \\frac{12 E I_{3}}{L^{3}} & 0 & 0 & 0 & - \\frac{6 E I_{3}}{L^{2}}\\\\0 & 0 & \\frac{12 E I_{2}}{L^{3}} & 0 & \\frac{6 E I_{2}}{L^{2}} & 0 & 0 & 0 & - \\frac{12 E I_{2}}{L^{3}} & 0 & \\frac{6 E I_{2}}{L^{2}} & 0\\\\0 & 0 & 0 & \\frac{G I_{1}}{L} & 0 & 0 & 0 & 0 & 0 & - \\frac{G I_{1}}{L} & 0 & 0\\\\0 & 0 & \\frac{6 E I_{2}}{L^{2}} & 0 & \\frac{4 E I_{2}}{L} & 0 & 0 & 0 & - \\frac{6 E I_{2}}{L^{2}} & 0 & \\frac{2 E I_{2}}{L} & 0\\\\0 & - \\frac{6 E I_{3}}{L^{2}} & 0 & 0 & 0 & \\frac{4 E I_{3}}{L} & 0 & \\frac{6 E I_{3}}{L^{2}} & 0 & 0 & 0 & \\frac{2 E I_{3}}{L}\\\\- \\frac{A E}{L} & 0 & 0 & 0 & 0 & 0 & \\frac{A E}{L} & 0 & 0 & 0 & 0 & 0\\\\0 & - \\frac{12 E I_{3}}{L^{3}} & 0 & 0 & 0 & \\frac{6 E I_{3}}{L^{2}} & 0 & \\frac{12 E I_{3}}{L^{3}} & 0 & 0 & 0 & \\frac{6 E I_{3}}{L^{2}}\\\\0 & 0 & - \\frac{12 E I_{2}}{L^{3}} & 0 & - \\frac{6 E I_{2}}{L^{2}} & 0 & 0 & 0 & \\frac{12 E I_{2}}{L^{3}} & 0 & - \\frac{6 E I_{2}}{L^{2}} & 0\\\\0 & 0 & 0 & - \\frac{G I_{1}}{L} & 0 & 0 & 0 & 0 & 0 & \\frac{G I_{1}}{L} & 0 & 0\\\\0 & 0 & \\frac{6 E I_{2}}{L^{2}} & 0 & \\frac{2 E I_{2}}{L} & 0 & 0 & 0 & - \\frac{6 E I_{2}}{L^{2}} & 0 & \\frac{4 E I_{2}}{L} & 0\\\\0 & - \\frac{6 E I_{3}}{L^{2}} & 0 & 0 & 0 & \\frac{2 E I_{3}}{L} & 0 & \\frac{6 E I_{3}}{L^{2}} & 0 & 0 & 0 & \\frac{4 E I_{3}}{L}\\end{array}\\right]$"
      ],
      "text/plain": [
       "⎡ A⋅E                                                     -A⋅E                \n",
       "⎢ ───       0          0        0        0         0      ─────      0        \n",
       "⎢  L                                                        L                 \n",
       "⎢                                                                             \n",
       "⎢        12⋅E⋅I₃                                -6⋅E⋅I₃          -12⋅E⋅I₃     \n",
       "⎢  0     ───────       0        0        0      ────────    0    ─────────    \n",
       "⎢            3                                      2                 3       \n",
       "⎢           L                                      L                 L        \n",
       "⎢                                                                             \n",
       "⎢                   12⋅E⋅I₂            6⋅E⋅I₂                               -1\n",
       "⎢  0        0       ───────     0      ──────      0        0        0      ──\n",
       "⎢                       3                 2                                   \n",
       "⎢                      L                 L                                    \n",
       "⎢                                                                             \n",
       "⎢                              G⋅I₁                                           \n",
       "⎢  0        0          0       ────      0         0        0        0        \n",
       "⎢                               L                                             \n",
       "⎢                                                                             \n",
       "⎢                   6⋅E⋅I₂             4⋅E⋅I₂                               -6\n",
       "⎢  0        0       ──────      0      ──────      0        0        0      ──\n",
       "⎢                      2                 L                                    \n",
       "⎢                     L                                                       \n",
       "⎢                                                                             \n",
       "⎢       -6⋅E⋅I₃                                  4⋅E⋅I₃           6⋅E⋅I₃      \n",
       "⎢  0    ────────       0        0        0       ──────     0     ──────      \n",
       "⎢           2                                      L                 2        \n",
       "⎢          L                                                        L         \n",
       "⎢                                                                             \n",
       "⎢-A⋅E                                                      A⋅E                \n",
       "⎢─────      0          0        0        0         0       ───       0        \n",
       "⎢  L                                                        L                 \n",
       "⎢                                                                             \n",
       "⎢       -12⋅E⋅I₃                                 6⋅E⋅I₃           12⋅E⋅I₃     \n",
       "⎢  0    ─────────      0        0        0       ──────     0     ───────     \n",
       "⎢            3                                      2                 3       \n",
       "⎢           L                                      L                 L        \n",
       "⎢                                                                             \n",
       "⎢                  -12⋅E⋅I₂           -6⋅E⋅I₂                                1\n",
       "⎢  0        0      ─────────    0     ────────     0        0        0       ─\n",
       "⎢                       3                 2                                   \n",
       "⎢                      L                 L                                    \n",
       "⎢                                                                             \n",
       "⎢                             -G⋅I₁                                           \n",
       "⎢  0        0          0      ──────     0         0        0        0        \n",
       "⎢                               L                                             \n",
       "⎢                                                                             \n",
       "⎢                   6⋅E⋅I₂             2⋅E⋅I₂                               -6\n",
       "⎢  0        0       ──────      0      ──────      0        0        0      ──\n",
       "⎢                      2                 L                                    \n",
       "⎢                     L                                                       \n",
       "⎢                                                                             \n",
       "⎢       -6⋅E⋅I₃                                  2⋅E⋅I₃           6⋅E⋅I₃      \n",
       "⎢  0    ────────       0        0        0       ──────     0     ──────      \n",
       "⎢           2                                      L                 2        \n",
       "⎣          L                                                        L         \n",
       "\n",
       "                                   ⎤\n",
       "  0        0        0         0    ⎥\n",
       "                                   ⎥\n",
       "                                   ⎥\n",
       "                           -6⋅E⋅I₃ ⎥\n",
       "  0        0        0      ────────⎥\n",
       "                               2   ⎥\n",
       "                              L    ⎥\n",
       "                                   ⎥\n",
       "2⋅E⋅I₂            6⋅E⋅I₂           ⎥\n",
       "───────    0      ──────      0    ⎥\n",
       "   3                 2             ⎥\n",
       "  L                 L              ⎥\n",
       "                                   ⎥\n",
       "         -G⋅I₁                     ⎥\n",
       "  0      ──────     0         0    ⎥\n",
       "           L                       ⎥\n",
       "                                   ⎥\n",
       "⋅E⋅I₂             2⋅E⋅I₂           ⎥\n",
       "──────     0      ──────      0    ⎥\n",
       "  2                 L              ⎥\n",
       " L                                 ⎥\n",
       "                                   ⎥\n",
       "                            2⋅E⋅I₃ ⎥\n",
       "  0        0        0       ────── ⎥\n",
       "                              L    ⎥\n",
       "                                   ⎥\n",
       "                                   ⎥\n",
       "                                   ⎥\n",
       "  0        0        0         0    ⎥\n",
       "                                   ⎥\n",
       "                                   ⎥\n",
       "                            6⋅E⋅I₃ ⎥\n",
       "  0        0        0       ────── ⎥\n",
       "                               2   ⎥\n",
       "                              L    ⎥\n",
       "                                   ⎥\n",
       "2⋅E⋅I₂           -6⋅E⋅I₂           ⎥\n",
       "──────     0     ────────     0    ⎥\n",
       "   3                 2             ⎥\n",
       "  L                 L              ⎥\n",
       "                                   ⎥\n",
       "          G⋅I₁                     ⎥\n",
       "  0       ────      0         0    ⎥\n",
       "           L                       ⎥\n",
       "                                   ⎥\n",
       "⋅E⋅I₂             4⋅E⋅I₂           ⎥\n",
       "──────     0      ──────      0    ⎥\n",
       "  2                 L              ⎥\n",
       " L                                 ⎥\n",
       "                                   ⎥\n",
       "                            4⋅E⋅I₃ ⎥\n",
       "  0        0        0       ────── ⎥\n",
       "                              L    ⎥\n",
       "                                   ⎦"
      ]
     },
     "execution_count": 20,
     "metadata": {},
     "output_type": "execute_result"
    }
   ],
   "source": [
    "K_f = diag(K_a, K_t, K_b12, K_b13)\n",
    "K = RAR(K_f)\n",
    "if (not K.is_symmetric()):\n",
    "    print('Error in K.')\n",
    "K"
   ]
  },
  {
   "cell_type": "code",
   "execution_count": 21,
   "metadata": {
    "code_folding": []
   },
   "outputs": [
    {
     "data": {
      "text/latex": [
       "$\\displaystyle \\left[\\begin{array}{cccccccccccc}\\frac{A L \\rho}{3} & 0 & 0 & 0 & 0 & 0 & \\frac{A L \\rho}{6} & 0 & 0 & 0 & 0 & 0\\\\0 & \\frac{13 A L \\rho}{35} & 0 & 0 & 0 & - \\frac{11 A L^{2} \\rho}{210} & 0 & \\frac{9 A L \\rho}{70} & 0 & 0 & 0 & \\frac{13 A L^{2} \\rho}{420}\\\\0 & 0 & \\frac{13 A L \\rho}{35} & 0 & \\frac{11 A L^{2} \\rho}{210} & 0 & 0 & 0 & \\frac{9 A L \\rho}{70} & 0 & - \\frac{13 A L^{2} \\rho}{420} & 0\\\\0 & 0 & 0 & \\frac{I_{1} L \\rho}{3} & 0 & 0 & 0 & 0 & 0 & \\frac{I_{1} L \\rho}{6} & 0 & 0\\\\0 & 0 & \\frac{11 A L^{2} \\rho}{210} & 0 & \\frac{A L^{3} \\rho}{105} & 0 & 0 & 0 & \\frac{13 A L^{2} \\rho}{420} & 0 & - \\frac{A L^{3} \\rho}{140} & 0\\\\0 & - \\frac{11 A L^{2} \\rho}{210} & 0 & 0 & 0 & \\frac{A L^{3} \\rho}{105} & 0 & - \\frac{13 A L^{2} \\rho}{420} & 0 & 0 & 0 & - \\frac{A L^{3} \\rho}{140}\\\\\\frac{A L \\rho}{6} & 0 & 0 & 0 & 0 & 0 & \\frac{A L \\rho}{3} & 0 & 0 & 0 & 0 & 0\\\\0 & \\frac{9 A L \\rho}{70} & 0 & 0 & 0 & - \\frac{13 A L^{2} \\rho}{420} & 0 & \\frac{13 A L \\rho}{35} & 0 & 0 & 0 & \\frac{11 A L^{2} \\rho}{210}\\\\0 & 0 & \\frac{9 A L \\rho}{70} & 0 & \\frac{13 A L^{2} \\rho}{420} & 0 & 0 & 0 & \\frac{13 A L \\rho}{35} & 0 & - \\frac{11 A L^{2} \\rho}{210} & 0\\\\0 & 0 & 0 & \\frac{I_{1} L \\rho}{6} & 0 & 0 & 0 & 0 & 0 & \\frac{I_{1} L \\rho}{3} & 0 & 0\\\\0 & 0 & - \\frac{13 A L^{2} \\rho}{420} & 0 & - \\frac{A L^{3} \\rho}{140} & 0 & 0 & 0 & - \\frac{11 A L^{2} \\rho}{210} & 0 & \\frac{A L^{3} \\rho}{105} & 0\\\\0 & \\frac{13 A L^{2} \\rho}{420} & 0 & 0 & 0 & - \\frac{A L^{3} \\rho}{140} & 0 & \\frac{11 A L^{2} \\rho}{210} & 0 & 0 & 0 & \\frac{A L^{3} \\rho}{105}\\end{array}\\right]$"
      ],
      "text/plain": [
       "⎡A⋅L⋅ρ                                                            A⋅L⋅ρ       \n",
       "⎢─────       0            0         0         0           0       ─────       \n",
       "⎢  3                                                                6         \n",
       "⎢                                                                             \n",
       "⎢                                                           2                 \n",
       "⎢        13⋅A⋅L⋅ρ                                    -11⋅A⋅L ⋅ρ            9⋅A\n",
       "⎢  0     ────────         0         0         0      ───────────    0      ───\n",
       "⎢           35                                           210                  \n",
       "⎢                                                                             \n",
       "⎢                                               2                             \n",
       "⎢                     13⋅A⋅L⋅ρ            11⋅A⋅L ⋅ρ                           \n",
       "⎢  0         0        ────────      0     ─────────       0         0         \n",
       "⎢                        35                  210                              \n",
       "⎢                                                                             \n",
       "⎢                                 I₁⋅L⋅ρ                                      \n",
       "⎢  0         0            0       ──────      0           0         0         \n",
       "⎢                                   3                                         \n",
       "⎢                                                                             \n",
       "⎢                           2                 3                               \n",
       "⎢                     11⋅A⋅L ⋅ρ            A⋅L ⋅ρ                             \n",
       "⎢  0         0        ─────────     0      ──────         0         0         \n",
       "⎢                        210                105                               \n",
       "⎢                                                                             \n",
       "⎢              2                                          3                   \n",
       "⎢       -11⋅A⋅L ⋅ρ                                     A⋅L ⋅ρ            -13⋅A\n",
       "⎢  0    ───────────       0         0         0        ──────       0    ─────\n",
       "⎢           210                                         105                  4\n",
       "⎢                                                                             \n",
       "⎢A⋅L⋅ρ                                                            A⋅L⋅ρ       \n",
       "⎢─────       0            0         0         0           0       ─────       \n",
       "⎢  6                                                                3         \n",
       "⎢                                                                             \n",
       "⎢                                                           2                 \n",
       "⎢         9⋅A⋅L⋅ρ                                    -13⋅A⋅L ⋅ρ           13⋅A\n",
       "⎢  0      ───────         0         0         0      ───────────    0     ────\n",
       "⎢            70                                          420                 3\n",
       "⎢                                                                             \n",
       "⎢                                               2                             \n",
       "⎢                      9⋅A⋅L⋅ρ            13⋅A⋅L ⋅ρ                           \n",
       "⎢  0         0         ───────      0     ─────────       0         0         \n",
       "⎢                         70                 420                              \n",
       "⎢                                                                             \n",
       "⎢                                 I₁⋅L⋅ρ                                      \n",
       "⎢  0         0            0       ──────      0           0         0         \n",
       "⎢                                   6                                         \n",
       "⎢                                                                             \n",
       "⎢                           2                 3                               \n",
       "⎢                    -13⋅A⋅L ⋅ρ           -A⋅L ⋅ρ                             \n",
       "⎢  0         0       ───────────    0     ────────        0         0         \n",
       "⎢                        420                140                               \n",
       "⎢                                                                             \n",
       "⎢              2                                          3                   \n",
       "⎢        13⋅A⋅L ⋅ρ                                    -A⋅L ⋅ρ             11⋅A\n",
       "⎢  0     ─────────        0         0         0       ────────      0     ────\n",
       "⎣           420                                         140                  2\n",
       "\n",
       "                                                   ⎤\n",
       "0            0         0          0           0    ⎥\n",
       "                                                   ⎥\n",
       "                                                   ⎥\n",
       "                                                2  ⎥\n",
       "⋅L⋅ρ                                      13⋅A⋅L ⋅ρ⎥\n",
       "────         0         0          0       ─────────⎥\n",
       "70                                           420   ⎥\n",
       "                                                   ⎥\n",
       "                                    2              ⎥\n",
       "          9⋅A⋅L⋅ρ            -13⋅A⋅L ⋅ρ            ⎥\n",
       "0         ───────      0     ───────────      0    ⎥\n",
       "             70                  420               ⎥\n",
       "                                                   ⎥\n",
       "                     I₁⋅L⋅ρ                        ⎥\n",
       "0            0       ──────       0           0    ⎥\n",
       "                       6                           ⎥\n",
       "                                                   ⎥\n",
       "               2                  3                ⎥\n",
       "         13⋅A⋅L ⋅ρ            -A⋅L ⋅ρ              ⎥\n",
       "0        ─────────     0      ────────        0    ⎥\n",
       "            420                 140                ⎥\n",
       "                                                   ⎥\n",
       "  2                                           3    ⎥\n",
       "⋅L ⋅ρ                                     -A⋅L ⋅ρ  ⎥\n",
       "──────       0         0          0       ──────── ⎥\n",
       "20                                          140    ⎥\n",
       "                                                   ⎥\n",
       "                                                   ⎥\n",
       "0            0         0          0           0    ⎥\n",
       "                                                   ⎥\n",
       "                                                   ⎥\n",
       "                                                2  ⎥\n",
       "⋅L⋅ρ                                      11⋅A⋅L ⋅ρ⎥\n",
       "────         0         0          0       ─────────⎥\n",
       "5                                            210   ⎥\n",
       "                                                   ⎥\n",
       "                                    2              ⎥\n",
       "         13⋅A⋅L⋅ρ            -11⋅A⋅L ⋅ρ            ⎥\n",
       "0        ────────      0     ───────────      0    ⎥\n",
       "            35                   210               ⎥\n",
       "                                                   ⎥\n",
       "                     I₁⋅L⋅ρ                        ⎥\n",
       "0            0       ──────       0           0    ⎥\n",
       "                       3                           ⎥\n",
       "                                                   ⎥\n",
       "               2                  3                ⎥\n",
       "        -11⋅A⋅L ⋅ρ             A⋅L ⋅ρ              ⎥\n",
       "0       ───────────    0       ──────         0    ⎥\n",
       "            210                 105                ⎥\n",
       "                                                   ⎥\n",
       "  2                                           3    ⎥\n",
       "⋅L ⋅ρ                                      A⋅L ⋅ρ  ⎥\n",
       "─────        0         0          0        ──────  ⎥\n",
       "10                                          105    ⎦"
      ]
     },
     "execution_count": 21,
     "metadata": {},
     "output_type": "execute_result"
    }
   ],
   "source": [
    "M_f = diag(M_a, M_t, M_b12, M_b13)\n",
    "M = RAR(M_f)\n",
    "if (not M.is_symmetric()):\n",
    "    print('Error in M.')\n",
    "M"
   ]
  }
 ],
 "metadata": {
  "kernelspec": {
   "display_name": "Python 3.7.3 64-bit ('base': conda)",
   "language": "python",
   "name": "python37364bitbaseconda210f926cb548430eaeeaaca39b8496cc"
  },
  "language_info": {
   "codemirror_mode": {
    "name": "ipython",
    "version": 3
   },
   "file_extension": ".py",
   "mimetype": "text/x-python",
   "name": "python",
   "nbconvert_exporter": "python",
   "pygments_lexer": "ipython3",
   "version": "3.7.3"
  }
 },
 "nbformat": 4,
 "nbformat_minor": 4
}
