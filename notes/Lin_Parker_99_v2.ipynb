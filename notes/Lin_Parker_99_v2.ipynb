{
 "cells": [
  {
   "cell_type": "markdown",
   "metadata": {},
   "source": [
    "# Reorganizing the system matrices from  (Lin, Parker, 1999)\n",
    "\n",
    "The objective is to describe how the system matrices presented in [1] were reorganized, in order to become more suitable to model multi-stage gearboxes with planetary and parallel stages. The reasons for reorganizing them are:\n",
    "* the ring gear is assumed to be fixed, so its degrees-of-freedom should be removed from the system matrices\n",
    "* these matrices will be combined for different stages in a finite-element manner, that would be easier if the state vector for each element were ordered from input to output elements, which in our case are the planet carrier and the sun gear, with the  $N$ planet gears and ring gear in between.\n",
    "\n",
    "##### References:\n",
    "[1] Lin, J., & Parker, R. G. (1999). Analytical characterization of the unique properties of planetary gear free vibration. Journal of Vibration and Acoustics, Transactions of the ASME, 121(3), 316–321. http://doi.org/10.1115/1.2893982 \\\n",
    "[2] Cooley, C. G., & Parker, R. G. (2012). Vibration Properties of High-Speed Planetary Gears With Gyroscopic Effects. Journal of Vibration and Acoustics, 134(6). http://doi.org/10.1115/1.4006646"
   ]
  },
  {
   "cell_type": "code",
   "execution_count": 1,
   "metadata": {},
   "outputs": [],
   "source": [
    "from sympy import *\n",
    "init_printing()\n",
    "\n",
    "def symb(x, y, z = ''):\n",
    "    return symbols('{0}_{1}{2}'.format(x, y, z), type = float)"
   ]
  },
  {
   "cell_type": "markdown",
   "metadata": {},
   "source": [
    "## Displacement vector\n",
    "\n",
    "The rotational coordinates are represented indirectly in the following way:\n",
    "$$u_j = r_j \\theta_j,$$\n",
    "where $r_j$ is the base radius of sun, ring, and planets gears or the center distance for the carrier"
   ]
  },
  {
   "cell_type": "code",
   "execution_count": 2,
   "metadata": {},
   "outputs": [
    {
     "output_type": "execute_result",
     "data": {
      "text/plain": "⎛⎡q_c⎤       ⎞\n⎜⎢   ⎥       ⎟\n⎜⎢qᵣ ⎥       ⎟\n⎜⎢   ⎥  ⎡x_j⎤⎟\n⎜⎢qₛ ⎥  ⎢   ⎥⎟\n⎜⎢   ⎥, ⎢y_j⎥⎟\n⎜⎢q₁ ⎥  ⎢   ⎥⎟\n⎜⎢   ⎥  ⎣u_j⎦⎟\n⎜⎢q₂ ⎥       ⎟\n⎜⎢   ⎥       ⎟\n⎝⎣q₃ ⎦       ⎠",
      "text/latex": "$\\displaystyle \\left( \\left[\\begin{matrix}q_{c}\\\\q_{r}\\\\q_{s}\\\\q_{1}\\\\q_{2}\\\\q_{3}\\end{matrix}\\right], \\  \\left[\\begin{matrix}x_{j}\\\\y_{j}\\\\u_{j}\\end{matrix}\\right]\\right)$"
     },
     "metadata": {},
     "execution_count": 2
    }
   ],
   "source": [
    "N = 3 # number of planet gears\n",
    "N_DOF = 3*(N + 3) # number of degrees of freedom\n",
    "#            carrier,  ring,  sun + planets\n",
    "idx_list = ['c'     , 'r'  , 's'] + list(range(1, N + 1))\n",
    "\n",
    "q = Matrix([symb('q', v) for v in idx_list])\n",
    "q_ = lambda idx: Matrix(symbols('x_{0} y_{0} u_{0}'.format(idx)))\n",
    "q, q_('j')"
   ]
  },
  {
   "cell_type": "markdown",
   "metadata": {},
   "source": [
    "## Inertia matrix\n",
    "\n",
    "First one needs to write the system matrices, defined in the Appendix of [1]. The inertia matrix can be seen below:\n",
    "\\begin{align}\n",
    "    \\mathbf{M} = \\mathrm{diag}(\\mathbf{M}_c, \\mathbf{M}_r, \\mathbf{M}_s, \\mathbf{M}_1, \\ldots, \\mathbf{M}_N) \\\\\n",
    "    \\mathbf{M}_j = \\mathrm{diag}(m_j, m_j, I_j/r_j^2), \\quad j = c, r, s, 1, \\ldots, N\n",
    "\\end{align}\n",
    "where:\n",
    "* $N$ is the number of planets\n",
    "* $m_j$ is the mass of an element (sun, planet, ring, carrier)\n",
    "* $I_j$ is the mass moment of inertia of an element\n",
    "* $r_j$ is the base radius for sun, ring, and planet gears or the center distance for the carrier"
   ]
  },
  {
   "cell_type": "code",
   "execution_count": 3,
   "metadata": {},
   "outputs": [
    {
     "output_type": "execute_result",
     "data": {
      "text/plain": "⎛⎡M_c  0   0   0   0   0 ⎤                  ⎞\n⎜⎢                       ⎥  ⎡m_j   0    0  ⎤⎟\n⎜⎢ 0   Mᵣ  0   0   0   0 ⎥  ⎢              ⎥⎟\n⎜⎢                       ⎥  ⎢ 0   m_j   0  ⎥⎟\n⎜⎢ 0   0   Mₛ  0   0   0 ⎥  ⎢              ⎥⎟\n⎜⎢                       ⎥, ⎢          I_j ⎥⎟\n⎜⎢ 0   0   0   M₁  0   0 ⎥  ⎢ 0    0   ────⎥⎟\n⎜⎢                       ⎥  ⎢             2⎥⎟\n⎜⎢ 0   0   0   0   M₂  0 ⎥  ⎣          r_j ⎦⎟\n⎜⎢                       ⎥                  ⎟\n⎝⎣ 0   0   0   0   0   M₃⎦                  ⎠",
      "text/latex": "$\\displaystyle \\left( \\left[\\begin{matrix}M_{c} & 0 & 0 & 0 & 0 & 0\\\\0 & M_{r} & 0 & 0 & 0 & 0\\\\0 & 0 & M_{s} & 0 & 0 & 0\\\\0 & 0 & 0 & M_{1} & 0 & 0\\\\0 & 0 & 0 & 0 & M_{2} & 0\\\\0 & 0 & 0 & 0 & 0 & M_{3}\\end{matrix}\\right], \\  \\left[\\begin{matrix}m_{j} & 0 & 0\\\\0 & m_{j} & 0\\\\0 & 0 & \\frac{I_{j}}{r_{j}^{2}}\\end{matrix}\\right]\\right)$"
     },
     "metadata": {},
     "execution_count": 3
    }
   ],
   "source": [
    "M  = diag(*[symb('M', v) for v in idx_list])\n",
    "M_ = lambda j: diag(symb('m', j), symb('m', j), symb('I', j)/symb('r', j)**2)\n",
    "\n",
    "M, M_('j')"
   ]
  },
  {
   "cell_type": "markdown",
   "metadata": {},
   "source": [
    "## Gyroscopic matrix:"
   ]
  },
  {
   "cell_type": "code",
   "execution_count": 4,
   "metadata": {},
   "outputs": [
    {
     "output_type": "execute_result",
     "data": {
      "text/plain": "⎛⎡G_c  0   0   0   0   0 ⎤                    ⎞\n⎜⎢                       ⎥                    ⎟\n⎜⎢ 0   Gᵣ  0   0   0   0 ⎥                    ⎟\n⎜⎢                       ⎥  ⎡  0    -2⋅m_j  0⎤⎟\n⎜⎢ 0   0   Gₛ  0   0   0 ⎥  ⎢                ⎥⎟\n⎜⎢                       ⎥, ⎢2⋅m_j    0     0⎥⎟\n⎜⎢ 0   0   0   G₁  0   0 ⎥  ⎢                ⎥⎟\n⎜⎢                       ⎥  ⎣  0      0     0⎦⎟\n⎜⎢ 0   0   0   0   G₂  0 ⎥                    ⎟\n⎜⎢                       ⎥                    ⎟\n⎝⎣ 0   0   0   0   0   G₃⎦                    ⎠",
      "text/latex": "$\\displaystyle \\left( \\left[\\begin{matrix}G_{c} & 0 & 0 & 0 & 0 & 0\\\\0 & G_{r} & 0 & 0 & 0 & 0\\\\0 & 0 & G_{s} & 0 & 0 & 0\\\\0 & 0 & 0 & G_{1} & 0 & 0\\\\0 & 0 & 0 & 0 & G_{2} & 0\\\\0 & 0 & 0 & 0 & 0 & G_{3}\\end{matrix}\\right], \\  \\left[\\begin{matrix}0 & - 2 m_{j} & 0\\\\2 m_{j} & 0 & 0\\\\0 & 0 & 0\\end{matrix}\\right]\\right)$"
     },
     "metadata": {},
     "execution_count": 4
    }
   ],
   "source": [
    "G  = diag(*[symb('G', v) for v in idx_list])\n",
    "G_ = lambda j: Matrix(3, 3, [0, -2*symb('m', j), 0, 2*symb('m', j), 0, 0, 0, 0, 0])\n",
    "\n",
    "G, G_('j')"
   ]
  },
  {
   "cell_type": "markdown",
   "metadata": {},
   "source": [
    "## Stiffness matrix\n",
    "\n",
    "### Centripetal component"
   ]
  },
  {
   "cell_type": "code",
   "execution_count": 5,
   "metadata": {},
   "outputs": [
    {
     "output_type": "execute_result",
     "data": {
      "text/plain": "⎛⎡K_Omegac     0         0         0         0         0    ⎤               ⎞\n⎜⎢                                                          ⎥               ⎟\n⎜⎢   0      K_Omegar     0         0         0         0    ⎥               ⎟\n⎜⎢                                                          ⎥  ⎡m_j   0   0⎤⎟\n⎜⎢   0         0      K_Omegas     0         0         0    ⎥  ⎢           ⎥⎟\n⎜⎢                                                          ⎥, ⎢ 0   m_j  0⎥⎟\n⎜⎢   0         0         0      K_Omega1     0         0    ⎥  ⎢           ⎥⎟\n⎜⎢                                                          ⎥  ⎣ 0    0   0⎦⎟\n⎜⎢   0         0         0         0      K_Omega2     0    ⎥               ⎟\n⎜⎢                                                          ⎥               ⎟\n⎝⎣   0         0         0         0         0      K_Omega3⎦               ⎠",
      "text/latex": "$\\displaystyle \\left( \\left[\\begin{matrix}K_{Omegac} & 0 & 0 & 0 & 0 & 0\\\\0 & K_{Omegar} & 0 & 0 & 0 & 0\\\\0 & 0 & K_{Omegas} & 0 & 0 & 0\\\\0 & 0 & 0 & K_{Omega1} & 0 & 0\\\\0 & 0 & 0 & 0 & K_{Omega2} & 0\\\\0 & 0 & 0 & 0 & 0 & K_{Omega3}\\end{matrix}\\right], \\  \\left[\\begin{matrix}m_{j} & 0 & 0\\\\0 & m_{j} & 0\\\\0 & 0 & 0\\end{matrix}\\right]\\right)$"
     },
     "metadata": {},
     "execution_count": 5
    }
   ],
   "source": [
    "K_Omega  = diag(*[symb('K', 'Omega', v) for v in idx_list])\n",
    "K_Omega_ = lambda j: diag(symb('m', j), symb('m', j), 0)\n",
    "\n",
    "K_Omega, K_Omega_('j')"
   ]
  },
  {
   "cell_type": "markdown",
   "metadata": {},
   "source": [
    "### Bearing component:"
   ]
  },
  {
   "cell_type": "code",
   "execution_count": 6,
   "metadata": {},
   "outputs": [
    {
     "output_type": "execute_result",
     "data": {
      "text/plain": "⎛⎡K_cb   0     0    0  0  0⎤                    ⎞\n⎜⎢                         ⎥                    ⎟\n⎜⎢ 0    K_rb   0    0  0  0⎥                    ⎟\n⎜⎢                         ⎥  ⎡k_jx   0     0  ⎤⎟\n⎜⎢ 0     0    K_sb  0  0  0⎥  ⎢                ⎥⎟\n⎜⎢                         ⎥, ⎢ 0    k_jy   0  ⎥⎟\n⎜⎢ 0     0     0    0  0  0⎥  ⎢                ⎥⎟\n⎜⎢                         ⎥  ⎣ 0     0    k_ju⎦⎟\n⎜⎢ 0     0     0    0  0  0⎥                    ⎟\n⎜⎢                         ⎥                    ⎟\n⎝⎣ 0     0     0    0  0  0⎦                    ⎠",
      "text/latex": "$\\displaystyle \\left( \\left[\\begin{matrix}K_{cb} & 0 & 0 & 0 & 0 & 0\\\\0 & K_{rb} & 0 & 0 & 0 & 0\\\\0 & 0 & K_{sb} & 0 & 0 & 0\\\\0 & 0 & 0 & 0 & 0 & 0\\\\0 & 0 & 0 & 0 & 0 & 0\\\\0 & 0 & 0 & 0 & 0 & 0\\end{matrix}\\right], \\  \\left[\\begin{matrix}k_{jx} & 0 & 0\\\\0 & k_{jy} & 0\\\\0 & 0 & k_{ju}\\end{matrix}\\right]\\right)$"
     },
     "metadata": {},
     "execution_count": 6
    }
   ],
   "source": [
    "func = lambda x: symb('K', x, 'b') if(not isinstance(x, int)) else 0\n",
    "\n",
    "K_b  = diag(*[func(v) for v in idx_list])\n",
    "K_b_ = lambda idx: diag(symb('k', idx, 'x'), symb('k', idx, 'y'), symb('k', idx, 'u'))\n",
    "K_b, K_b_('j')"
   ]
  },
  {
   "cell_type": "markdown",
   "metadata": {},
   "source": [
    "where $k_{ix}$ and $k_{iy}$ are the bearing stiffness components in the $x$ and $y$ directions. The torsional components of the bearing stiffness are null, i.e. $k_{iu} = 0$, for $i = c, r, s$. The stiffness of the planet bearings can be found on the sub-matrices $K_c$ of the mesh stiffness matrix.\n",
    "### Mesh component:\n",
    "The mesh stiffness matrix is defined in the figure below, where it is sub-divided in blocks with colors, red, grey, and blue, called diagonal 1, diagonal 2, and off-diagonal, respectively.\n",
    "\\begin{align}\n",
    "    \\begin{bmatrix}\n",
    "       \\sum \\mathbf{K}_{c1}^n & \\mathbf{0}             & \\mathbf{0}             & \\mathbf{K}_{c2}^1 & \\mathbf{K}_{c2}^2 & \\ldots & \\mathbf{K}_{c2}^N\\\\\n",
    "                              & \\sum \\mathbf{K}_{r1}^n & \\mathbf{0}             & \\mathbf{K}_{r2}^1 & \\mathbf{K}_{r2}^2 & \\ldots & \\mathbf{K}_{r2}^N\\\\\n",
    "                              &                        & \\sum \\mathbf{K}_{s1}^n & \\mathbf{K}_{s2}^1 & \\mathbf{K}_{s2}^2 & \\ldots & \\mathbf{K}_{s2}^N \\\\\n",
    "                              &                        &                        & \\mathbf{K}_{pp}^1 & \\mathbf{0}       & \\ldots & \\mathbf{0} \\\\\n",
    "       {\\rm symmetric}        &                        &                        &                   & \\ddots           & \\ldots & \\vdots \\\\\n",
    "                              &                        &                        &                   &                  &        & \\mathbf{K}_{pp}^N\n",
    "    \\end{bmatrix}\n",
    "\\end{align}\n",
    "![alt text](K_m_LP_99.png)"
   ]
  },
  {
   "cell_type": "markdown",
   "metadata": {},
   "source": [
    "#### Diagonal 1"
   ]
  },
  {
   "cell_type": "code",
   "execution_count": 7,
   "metadata": {},
   "outputs": [
    {
     "output_type": "execute_result",
     "data": {
      "text/plain": "⎡  3                                        ⎤\n⎢ ___                                       ⎥\n⎢ ╲                                         ⎥\n⎢  ╲                                        ⎥\n⎢  ╱   K_c1__j        0              0      ⎥\n⎢ ╱                                         ⎥\n⎢ ‾‾‾                                       ⎥\n⎢j = 1                                      ⎥\n⎢                                           ⎥\n⎢                 3                         ⎥\n⎢                ___                        ⎥\n⎢                ╲                          ⎥\n⎢                 ╲                         ⎥\n⎢      0          ╱   K_r1__j        0      ⎥\n⎢                ╱                          ⎥\n⎢                ‾‾‾                        ⎥\n⎢               j = 1                       ⎥\n⎢                                           ⎥\n⎢                                3          ⎥\n⎢                               ___         ⎥\n⎢                               ╲           ⎥\n⎢                                ╲          ⎥\n⎢      0              0          ╱   K_s1__j⎥\n⎢                               ╱           ⎥\n⎢                               ‾‾‾         ⎥\n⎣                              j = 1        ⎦",
      "text/latex": "$\\displaystyle \\left[\\begin{matrix}\\sum_{j=1}^{3} K^{j}_{c1} & 0 & 0\\\\0 & \\sum_{j=1}^{3} K^{j}_{r1} & 0\\\\0 & 0 & \\sum_{j=1}^{3} K^{j}_{s1}\\end{matrix}\\right]$"
     },
     "metadata": {},
     "execution_count": 7
    }
   ],
   "source": [
    "K_d1 = diag(Sum(symb('K', 'c1', '^j'), (symbols('j'), 1, N)),\n",
    "            Sum(symb('K', 'r1', '^j'), (symbols('j'), 1, N)),\n",
    "            Sum(symb('K', 's1', '^j'), (symbols('j'), 1, N)))\n",
    "K_d1"
   ]
  },
  {
   "cell_type": "markdown",
   "metadata": {},
   "source": [
    "#### Diagonal 2"
   ]
  },
  {
   "cell_type": "code",
   "execution_count": 8,
   "metadata": {},
   "outputs": [
    {
     "output_type": "execute_result",
     "data": {
      "text/plain": "⎡K¹ₚₚ   0     0  ⎤\n⎢                ⎥\n⎢ 0    K²ₚₚ   0  ⎥\n⎢                ⎥\n⎣ 0     0    K³ₚₚ⎦",
      "text/latex": "$\\displaystyle \\left[\\begin{matrix}K^{1}_{pp} & 0 & 0\\\\0 & K^{2}_{pp} & 0\\\\0 & 0 & K^{3}_{pp}\\end{matrix}\\right]$"
     },
     "metadata": {},
     "execution_count": 8
    }
   ],
   "source": [
    "K_d2 = diag(*[symb('K', 'pp', '^{}'.format(v + 1)) for v in range(N)])\n",
    "K_d2"
   ]
  },
  {
   "cell_type": "markdown",
   "metadata": {},
   "source": [
    "#### Off-diagonal"
   ]
  },
  {
   "cell_type": "code",
   "execution_count": 9,
   "metadata": {},
   "outputs": [
    {
     "output_type": "execute_result",
     "data": {
      "text/plain": "⎡K_c2__1  K_c2__2  K_c2__3⎤\n⎢                         ⎥\n⎢ K¹ᵣ₂     K²ᵣ₂     K³ᵣ₂  ⎥\n⎢                         ⎥\n⎣ K¹ₛ₂     K²ₛ₂     K³ₛ₂  ⎦",
      "text/latex": "$\\displaystyle \\left[\\begin{matrix}K^{1}_{c2} & K^{2}_{c2} & K^{3}_{c2}\\\\K^{1}_{r2} & K^{2}_{r2} & K^{3}_{r2}\\\\K^{1}_{s2} & K^{2}_{s2} & K^{3}_{s2}\\end{matrix}\\right]$"
     },
     "metadata": {},
     "execution_count": 9
    }
   ],
   "source": [
    "K_od = Matrix([[symb('K', 'c2', '^{}'.format(v + 1)) for v in range(N)], \n",
    "               [symb('K', 'r2', '^{}'.format(v + 1)) for v in range(N)], \n",
    "               [symb('K', 's2', '^{}'.format(v + 1)) for v in range(N)]])\n",
    "K_od"
   ]
  },
  {
   "cell_type": "markdown",
   "metadata": {},
   "source": [
    "#### Assembly"
   ]
  },
  {
   "cell_type": "code",
   "execution_count": 10,
   "metadata": {},
   "outputs": [
    {
     "output_type": "execute_result",
     "data": {
      "text/plain": "⎡  3                                                                   ⎤\n⎢ ___                                                                  ⎥\n⎢ ╲                                                                    ⎥\n⎢  ╲                                                                   ⎥\n⎢  ╱   K_c1__j        0              0        K_c2__1  K_c2__2  K_c2__3⎥\n⎢ ╱                                                                    ⎥\n⎢ ‾‾‾                                                                  ⎥\n⎢j = 1                                                                 ⎥\n⎢                                                                      ⎥\n⎢                 3                                                    ⎥\n⎢                ___                                                   ⎥\n⎢                ╲                                                     ⎥\n⎢                 ╲                                                    ⎥\n⎢      0          ╱   K_r1__j        0         K¹ᵣ₂     K²ᵣ₂     K³ᵣ₂  ⎥\n⎢                ╱                                                     ⎥\n⎢                ‾‾‾                                                   ⎥\n⎢               j = 1                                                  ⎥\n⎢                                                                      ⎥\n⎢                                3                                     ⎥\n⎢                               ___                                    ⎥\n⎢                               ╲                                      ⎥\n⎢                                ╲                                     ⎥\n⎢      0              0          ╱   K_s1__j   K¹ₛ₂     K²ₛ₂     K³ₛ₂  ⎥\n⎢                               ╱                                      ⎥\n⎢                               ‾‾‾                                    ⎥\n⎢                              j = 1                                   ⎥\n⎢                                                                      ⎥\n⎢   K_c2__1         K¹ᵣ₂           K¹ₛ₂        K¹ₚₚ       0        0   ⎥\n⎢                                                                      ⎥\n⎢   K_c2__2         K²ᵣ₂           K²ₛ₂          0      K²ₚₚ       0   ⎥\n⎢                                                                      ⎥\n⎣   K_c2__3         K³ᵣ₂           K³ₛ₂          0        0      K³ₚₚ  ⎦",
      "text/latex": "$\\displaystyle \\left[\\begin{matrix}\\sum_{j=1}^{3} K^{j}_{c1} & 0 & 0 & K^{1}_{c2} & K^{2}_{c2} & K^{3}_{c2}\\\\0 & \\sum_{j=1}^{3} K^{j}_{r1} & 0 & K^{1}_{r2} & K^{2}_{r2} & K^{3}_{r2}\\\\0 & 0 & \\sum_{j=1}^{3} K^{j}_{s1} & K^{1}_{s2} & K^{2}_{s2} & K^{3}_{s2}\\\\K^{1}_{c2} & K^{1}_{r2} & K^{1}_{s2} & K^{1}_{pp} & 0 & 0\\\\K^{2}_{c2} & K^{2}_{r2} & K^{2}_{s2} & 0 & K^{2}_{pp} & 0\\\\K^{3}_{c2} & K^{3}_{r2} & K^{3}_{s2} & 0 & 0 & K^{3}_{pp}\\end{matrix}\\right]$"
     },
     "metadata": {},
     "execution_count": 10
    }
   ],
   "source": [
    "K_m = BlockMatrix([[          K_d1 , K_od],\n",
    "                   [transpose(K_od), K_d2]])\n",
    "K_m = Matrix(K_m)\n",
    "\n",
    "if(not K_m.is_symmetric()):\n",
    "    print('error.')\n",
    "K_m"
   ]
  },
  {
   "cell_type": "markdown",
   "metadata": {},
   "source": [
    "The submatrices of $\\mathbf{K}_m$ will be defined later on, after we reorganize the overall system matrices.\n",
    "## Reorganizing the system matrices:\n",
    "The following steps will be implemented using matrices that should be pre and post-multiply the system matrices and submatrices in the following way:\n",
    "\\begin{align}\n",
    "    \\mathbf{A}_\\mathrm{new} = \\mathbf{Y}^T \\mathbf{A}_\\mathrm{old} \\mathbf{Y}\n",
    "\\end{align}\n",
    "\n",
    "### Eliminating the ring element:\n",
    "One can do that using linear algebra with the matrix $\\mathbf{R}$ described as follows:"
   ]
  },
  {
   "cell_type": "code",
   "execution_count": 11,
   "metadata": {},
   "outputs": [
    {
     "output_type": "execute_result",
     "data": {
      "text/plain": "⎛                           ⎡q_c⎤⎞\n⎜⎡q_c⎤  ⎡1  0  0  0  0  0⎤  ⎢   ⎥⎟\n⎜⎢   ⎥  ⎢                ⎥  ⎢qᵣ ⎥⎟\n⎜⎢qₛ ⎥  ⎢0  0  1  0  0  0⎥  ⎢   ⎥⎟\n⎜⎢   ⎥  ⎢                ⎥  ⎢qₛ ⎥⎟\n⎜⎢q₁ ⎥, ⎢0  0  0  1  0  0⎥, ⎢   ⎥⎟\n⎜⎢   ⎥  ⎢                ⎥  ⎢q₁ ⎥⎟\n⎜⎢q₂ ⎥  ⎢0  0  0  0  1  0⎥  ⎢   ⎥⎟\n⎜⎢   ⎥  ⎢                ⎥  ⎢q₂ ⎥⎟\n⎜⎣q₃ ⎦  ⎣0  0  0  0  0  1⎦  ⎢   ⎥⎟\n⎝                           ⎣q₃ ⎦⎠",
      "text/latex": "$\\displaystyle \\left( \\left[\\begin{matrix}q_{c}\\\\q_{s}\\\\q_{1}\\\\q_{2}\\\\q_{3}\\end{matrix}\\right], \\  \\left[\\begin{matrix}1 & 0 & 0 & 0 & 0 & 0\\\\0 & 0 & 1 & 0 & 0 & 0\\\\0 & 0 & 0 & 1 & 0 & 0\\\\0 & 0 & 0 & 0 & 1 & 0\\\\0 & 0 & 0 & 0 & 0 & 1\\end{matrix}\\right], \\  \\left[\\begin{matrix}q_{c}\\\\q_{r}\\\\q_{s}\\\\q_{1}\\\\q_{2}\\\\q_{3}\\end{matrix}\\right]\\right)$"
     },
     "metadata": {},
     "execution_count": 11
    }
   ],
   "source": [
    "N_eo = N + 3 # number of elements (original)\n",
    "N_e  = N_eo - 1 # number of elements (new)\n",
    "\n",
    "W = eye(N_e, N_eo)\n",
    "for idx in range(N_e - 1):\n",
    "    c1 = N_e - idx\n",
    "    c2 = c1 - 1\n",
    "    W = W.elementary_col_op(op = 'n<->m', col1 = c1, col2 = c2)\n",
    "# q_2 = W * q:\n",
    "W*q, W, q"
   ]
  },
  {
   "cell_type": "markdown",
   "metadata": {},
   "source": [
    "### Changing the element order:\n",
    "One can do that with the matrix $\\mathbf{V}$, which is defined as: "
   ]
  },
  {
   "cell_type": "code",
   "execution_count": 12,
   "metadata": {},
   "outputs": [
    {
     "output_type": "execute_result",
     "data": {
      "text/plain": "⎛⎡q_c⎤  ⎡1  0  0  0  0⎤  ⎡q_c⎤⎞\n⎜⎢   ⎥  ⎢             ⎥  ⎢   ⎥⎟\n⎜⎢qₛ ⎥  ⎢0  0  1  0  0⎥  ⎢q₁ ⎥⎟\n⎜⎢   ⎥  ⎢             ⎥  ⎢   ⎥⎟\n⎜⎢q₁ ⎥, ⎢0  0  0  1  0⎥, ⎢q₂ ⎥⎟\n⎜⎢   ⎥  ⎢             ⎥  ⎢   ⎥⎟\n⎜⎢q₂ ⎥  ⎢0  0  0  0  1⎥  ⎢q₃ ⎥⎟\n⎜⎢   ⎥  ⎢             ⎥  ⎢   ⎥⎟\n⎝⎣q₃ ⎦  ⎣0  1  0  0  0⎦  ⎣qₛ ⎦⎠",
      "text/latex": "$\\displaystyle \\left( \\left[\\begin{matrix}q_{c}\\\\q_{s}\\\\q_{1}\\\\q_{2}\\\\q_{3}\\end{matrix}\\right], \\  \\left[\\begin{matrix}1 & 0 & 0 & 0 & 0\\\\0 & 0 & 1 & 0 & 0\\\\0 & 0 & 0 & 1 & 0\\\\0 & 0 & 0 & 0 & 1\\\\0 & 1 & 0 & 0 & 0\\end{matrix}\\right], \\  \\left[\\begin{matrix}q_{c}\\\\q_{1}\\\\q_{2}\\\\q_{3}\\\\q_{s}\\end{matrix}\\right]\\right)$"
     },
     "metadata": {},
     "execution_count": 12
    }
   ],
   "source": [
    "N1 = N_e - 1\n",
    "\n",
    "V = zeros(N_e)\n",
    "V[0   , 0 ] = 1\n",
    "V[  N1, 1 ] = 1\n",
    "V[1:N1, 2:] = eye(N)\n",
    "\n",
    "# q_3 = V * q_2\n",
    "W*q, V, V*W*q"
   ]
  },
  {
   "cell_type": "markdown",
   "metadata": {},
   "source": [
    "Both steps can be merged into a single matrix \\mathbf{S}$, defined as:"
   ]
  },
  {
   "cell_type": "code",
   "execution_count": 13,
   "metadata": {},
   "outputs": [
    {
     "output_type": "execute_result",
     "data": {
      "text/plain": "⎡1  0  0  0  0⎤\n⎢             ⎥\n⎢0  0  0  0  0⎥\n⎢             ⎥\n⎢0  0  0  0  1⎥\n⎢             ⎥\n⎢0  1  0  0  0⎥\n⎢             ⎥\n⎢0  0  1  0  0⎥\n⎢             ⎥\n⎣0  0  0  1  0⎦",
      "text/latex": "$\\displaystyle \\left[\\begin{matrix}1 & 0 & 0 & 0 & 0\\\\0 & 0 & 0 & 0 & 0\\\\0 & 0 & 0 & 0 & 1\\\\0 & 1 & 0 & 0 & 0\\\\0 & 0 & 1 & 0 & 0\\\\0 & 0 & 0 & 1 & 0\\end{matrix}\\right]$"
     },
     "metadata": {},
     "execution_count": 13
    }
   ],
   "source": [
    "S = V*W\n",
    "S = S.pinv()\n",
    "pre_post = lambda X, A: transpose(X)*A*X\n",
    "S"
   ]
  },
  {
   "cell_type": "markdown",
   "metadata": {},
   "source": [
    "Thus the system matrices can be redefined as follows:\n",
    "### Inertia matrix"
   ]
  },
  {
   "cell_type": "code",
   "execution_count": 14,
   "metadata": {},
   "outputs": [
    {
     "output_type": "execute_result",
     "data": {
      "text/plain": "⎡M_c  0   0   0   0 ⎤\n⎢                   ⎥\n⎢ 0   M₁  0   0   0 ⎥\n⎢                   ⎥\n⎢ 0   0   M₂  0   0 ⎥\n⎢                   ⎥\n⎢ 0   0   0   M₃  0 ⎥\n⎢                   ⎥\n⎣ 0   0   0   0   Mₛ⎦",
      "text/latex": "$\\displaystyle \\left[\\begin{matrix}M_{c} & 0 & 0 & 0 & 0\\\\0 & M_{1} & 0 & 0 & 0\\\\0 & 0 & M_{2} & 0 & 0\\\\0 & 0 & 0 & M_{3} & 0\\\\0 & 0 & 0 & 0 & M_{s}\\end{matrix}\\right]$"
     },
     "metadata": {},
     "execution_count": 14
    }
   ],
   "source": [
    "M = pre_post(S, M)\n",
    "M"
   ]
  },
  {
   "cell_type": "markdown",
   "metadata": {},
   "source": [
    "### Gyroscopic matrix"
   ]
  },
  {
   "cell_type": "code",
   "execution_count": 15,
   "metadata": {},
   "outputs": [
    {
     "output_type": "execute_result",
     "data": {
      "text/plain": "⎡G_c  0   0   0   0 ⎤\n⎢                   ⎥\n⎢ 0   G₁  0   0   0 ⎥\n⎢                   ⎥\n⎢ 0   0   G₂  0   0 ⎥\n⎢                   ⎥\n⎢ 0   0   0   G₃  0 ⎥\n⎢                   ⎥\n⎣ 0   0   0   0   Gₛ⎦",
      "text/latex": "$\\displaystyle \\left[\\begin{matrix}G_{c} & 0 & 0 & 0 & 0\\\\0 & G_{1} & 0 & 0 & 0\\\\0 & 0 & G_{2} & 0 & 0\\\\0 & 0 & 0 & G_{3} & 0\\\\0 & 0 & 0 & 0 & G_{s}\\end{matrix}\\right]$"
     },
     "metadata": {},
     "execution_count": 15
    }
   ],
   "source": [
    "G = pre_post(S, G)\n",
    "G"
   ]
  },
  {
   "cell_type": "markdown",
   "metadata": {},
   "source": [
    "### Stiffness matrix\n",
    "\n",
    "#### Centripetal component"
   ]
  },
  {
   "cell_type": "code",
   "execution_count": 16,
   "metadata": {},
   "outputs": [
    {
     "output_type": "execute_result",
     "data": {
      "text/plain": "⎡K_Omegac     0         0         0         0    ⎤\n⎢                                                ⎥\n⎢   0      K_Omega1     0         0         0    ⎥\n⎢                                                ⎥\n⎢   0         0      K_Omega2     0         0    ⎥\n⎢                                                ⎥\n⎢   0         0         0      K_Omega3     0    ⎥\n⎢                                                ⎥\n⎣   0         0         0         0      K_Omegas⎦",
      "text/latex": "$\\displaystyle \\left[\\begin{matrix}K_{Omegac} & 0 & 0 & 0 & 0\\\\0 & K_{Omega1} & 0 & 0 & 0\\\\0 & 0 & K_{Omega2} & 0 & 0\\\\0 & 0 & 0 & K_{Omega3} & 0\\\\0 & 0 & 0 & 0 & K_{Omegas}\\end{matrix}\\right]$"
     },
     "metadata": {},
     "execution_count": 16
    }
   ],
   "source": [
    "K_Omega = pre_post(S, K_Omega)\n",
    "K_Omega"
   ]
  },
  {
   "cell_type": "markdown",
   "metadata": {},
   "source": [
    "#### Bearing component:"
   ]
  },
  {
   "cell_type": "code",
   "execution_count": 17,
   "metadata": {},
   "outputs": [
    {
     "output_type": "execute_result",
     "data": {
      "text/plain": "⎡K_cb  0  0  0   0  ⎤\n⎢                   ⎥\n⎢ 0    0  0  0   0  ⎥\n⎢                   ⎥\n⎢ 0    0  0  0   0  ⎥\n⎢                   ⎥\n⎢ 0    0  0  0   0  ⎥\n⎢                   ⎥\n⎣ 0    0  0  0  K_sb⎦",
      "text/latex": "$\\displaystyle \\left[\\begin{matrix}K_{cb} & 0 & 0 & 0 & 0\\\\0 & 0 & 0 & 0 & 0\\\\0 & 0 & 0 & 0 & 0\\\\0 & 0 & 0 & 0 & 0\\\\0 & 0 & 0 & 0 & K_{sb}\\end{matrix}\\right]$"
     },
     "metadata": {},
     "execution_count": 17
    }
   ],
   "source": [
    "K_b = pre_post(S, K_b)\n",
    "K_b"
   ]
  },
  {
   "cell_type": "markdown",
   "metadata": {},
   "source": [
    "#### Mesh component:"
   ]
  },
  {
   "cell_type": "code",
   "execution_count": 18,
   "metadata": {},
   "outputs": [
    {
     "output_type": "execute_result",
     "data": {
      "text/plain": "⎡  3                                                    ⎤\n⎢ ___                                                   ⎥\n⎢ ╲                                                     ⎥\n⎢  ╲                                                    ⎥\n⎢  ╱   K_c1__j  K_c2__1  K_c2__2  K_c2__3        0      ⎥\n⎢ ╱                                                     ⎥\n⎢ ‾‾‾                                                   ⎥\n⎢j = 1                                                  ⎥\n⎢                                                       ⎥\n⎢   K_c2__1      K¹ₚₚ       0        0         K¹ₛ₂     ⎥\n⎢                                                       ⎥\n⎢   K_c2__2        0      K²ₚₚ       0         K²ₛ₂     ⎥\n⎢                                                       ⎥\n⎢   K_c2__3        0        0      K³ₚₚ        K³ₛ₂     ⎥\n⎢                                                       ⎥\n⎢                                            3          ⎥\n⎢                                           ___         ⎥\n⎢                                           ╲           ⎥\n⎢                                            ╲          ⎥\n⎢      0         K¹ₛ₂     K²ₛ₂     K³ₛ₂      ╱   K_s1__j⎥\n⎢                                           ╱           ⎥\n⎢                                           ‾‾‾         ⎥\n⎣                                          j = 1        ⎦",
      "text/latex": "$\\displaystyle \\left[\\begin{matrix}\\sum_{j=1}^{3} K^{j}_{c1} & K^{1}_{c2} & K^{2}_{c2} & K^{3}_{c2} & 0\\\\K^{1}_{c2} & K^{1}_{pp} & 0 & 0 & K^{1}_{s2}\\\\K^{2}_{c2} & 0 & K^{2}_{pp} & 0 & K^{2}_{s2}\\\\K^{3}_{c2} & 0 & 0 & K^{3}_{pp} & K^{3}_{s2}\\\\0 & K^{1}_{s2} & K^{2}_{s2} & K^{3}_{s2} & \\sum_{j=1}^{3} K^{j}_{s1}\\end{matrix}\\right]$"
     },
     "metadata": {},
     "execution_count": 18
    }
   ],
   "source": [
    "K_m = pre_post(S, K_m)\n",
    "K_m"
   ]
  },
  {
   "cell_type": "markdown",
   "metadata": {},
   "source": [
    "## Combine planet elements\n",
    "That can be done by considering the center of mass of the $N$ planet gears, with the following matrix:"
   ]
  },
  {
   "cell_type": "code",
   "execution_count": 19,
   "metadata": {},
   "outputs": [
    {
     "output_type": "execute_result",
     "data": {
      "text/plain": "⎛                                       ⎡q_c⎤⎞\n⎜⎡    q_c     ⎤                         ⎢   ⎥⎟\n⎜⎢            ⎥  ⎡1   0    0    0   0⎤  ⎢q₁ ⎥⎟\n⎜⎢q₁   q₂   q₃⎥  ⎢                   ⎥  ⎢   ⎥⎟\n⎜⎢── + ── + ──⎥, ⎢0  1/3  1/3  1/3  0⎥, ⎢q₂ ⎥⎟\n⎜⎢3    3    3 ⎥  ⎢                   ⎥  ⎢   ⎥⎟\n⎜⎢            ⎥  ⎣0   0    0    0   1⎦  ⎢q₃ ⎥⎟\n⎜⎣     qₛ     ⎦                         ⎢   ⎥⎟\n⎝                                       ⎣qₛ ⎦⎠",
      "text/latex": "$\\displaystyle \\left( \\left[\\begin{matrix}q_{c}\\\\\\frac{q_{1}}{3} + \\frac{q_{2}}{3} + \\frac{q_{3}}{3}\\\\q_{s}\\end{matrix}\\right], \\  \\left[\\begin{matrix}1 & 0 & 0 & 0 & 0\\\\0 & \\frac{1}{3} & \\frac{1}{3} & \\frac{1}{3} & 0\\\\0 & 0 & 0 & 0 & 1\\end{matrix}\\right], \\  \\left[\\begin{matrix}q_{c}\\\\q_{1}\\\\q_{2}\\\\q_{3}\\\\q_{s}\\end{matrix}\\right]\\right)$"
     },
     "metadata": {},
     "execution_count": 19
    }
   ],
   "source": [
    "N1 = N_e - 1\n",
    "N_c = N_e - (N - 1) # number of elements (combined planets)\n",
    "C = zeros(N_c, N_e)\n",
    "\n",
    "C[0, 0] = 1\n",
    "C[N_c - 1, N_e - 1] = 1\n",
    "C[1, 1:N1] = ones(1,N)*1/N\n",
    "C = C.pinv()\n",
    "\n",
    "C.pinv()*S.pinv()*q, C.pinv(), S.pinv()*q"
   ]
  },
  {
   "cell_type": "markdown",
   "metadata": {},
   "source": [
    "### Inertia matrix\n",
    "The planets have the same mass and mass moment of inertia."
   ]
  },
  {
   "cell_type": "code",
   "execution_count": 20,
   "metadata": {},
   "outputs": [
    {
     "output_type": "execute_result",
     "data": {
      "text/plain": "⎡M_c   0   0 ⎤\n⎢            ⎥\n⎢ 0   3⋅M  0 ⎥\n⎢            ⎥\n⎣ 0    0   Mₛ⎦",
      "text/latex": "$\\displaystyle \\left[\\begin{matrix}M_{c} & 0 & 0\\\\0 & 3 M_{} & 0\\\\0 & 0 & M_{s}\\end{matrix}\\right]$"
     },
     "metadata": {},
     "execution_count": 20
    }
   ],
   "source": [
    "M_C = pre_post(C, M)\n",
    "M_C = M_C.subs([(symb('M', v + 1), symb('M','')) for v in range(N)])\n",
    "M_C"
   ]
  },
  {
   "cell_type": "markdown",
   "metadata": {},
   "source": [
    "### Gyroscopic matrix"
   ]
  },
  {
   "cell_type": "code",
   "execution_count": 21,
   "metadata": {},
   "outputs": [
    {
     "output_type": "execute_result",
     "data": {
      "text/plain": "⎡G_c   0   0 ⎤\n⎢            ⎥\n⎢ 0   3⋅G  0 ⎥\n⎢            ⎥\n⎣ 0    0   Gₛ⎦",
      "text/latex": "$\\displaystyle \\left[\\begin{matrix}G_{c} & 0 & 0\\\\0 & 3 G_{} & 0\\\\0 & 0 & G_{s}\\end{matrix}\\right]$"
     },
     "metadata": {},
     "execution_count": 21
    }
   ],
   "source": [
    "G_C = pre_post(C, G)\n",
    "G_C = G_C.subs([(symb('G', v + 1), symb('G','')) for v in range(N)])\n",
    "G_C"
   ]
  },
  {
   "cell_type": "markdown",
   "metadata": {},
   "source": [
    "### Stiffness matrix\n",
    "\n",
    "#### Centripetal component"
   ]
  },
  {
   "cell_type": "code",
   "execution_count": 22,
   "metadata": {},
   "outputs": [
    {
     "output_type": "execute_result",
     "data": {
      "text/plain": "⎡K_Omegac    0       0    ⎤\n⎢                         ⎥\n⎢   0      3⋅K_Ω     0    ⎥\n⎢                         ⎥\n⎣   0        0    K_Omegas⎦",
      "text/latex": "$\\displaystyle \\left[\\begin{matrix}K_{Omegac} & 0 & 0\\\\0 & 3 K_{\\Omega} & 0\\\\0 & 0 & K_{Omegas}\\end{matrix}\\right]$"
     },
     "metadata": {},
     "execution_count": 22
    }
   ],
   "source": [
    "K_Omega_C = pre_post(C, K_Omega)\n",
    "K_Omega_C = K_Omega_C.subs([(symb('K', 'Omega', v + 1), symb('K', 'Omega','')) for v in range(N)])\n",
    "K_Omega_C"
   ]
  },
  {
   "cell_type": "markdown",
   "metadata": {},
   "source": [
    "#### Bearing component:"
   ]
  },
  {
   "cell_type": "code",
   "execution_count": 23,
   "metadata": {},
   "outputs": [
    {
     "output_type": "execute_result",
     "data": {
      "text/plain": "⎡K_cb  0   0  ⎤\n⎢             ⎥\n⎢ 0    0   0  ⎥\n⎢             ⎥\n⎣ 0    0  K_sb⎦",
      "text/latex": "$\\displaystyle \\left[\\begin{matrix}K_{cb} & 0 & 0\\\\0 & 0 & 0\\\\0 & 0 & K_{sb}\\end{matrix}\\right]$"
     },
     "metadata": {},
     "execution_count": 23
    }
   ],
   "source": [
    "K_b_C = pre_post(C, K_b)\n",
    "K_b_C"
   ]
  },
  {
   "cell_type": "markdown",
   "metadata": {},
   "source": [
    "#### Mesh component"
   ]
  },
  {
   "cell_type": "code",
   "execution_count": 24,
   "metadata": {},
   "outputs": [
    {
     "output_type": "execute_result",
     "data": {
      "text/plain": "⎡         3                                                                  ⎤\n⎢        ___                                                                 ⎥\n⎢        ╲                                                                   ⎥\n⎢         ╲                                                                  ⎥\n⎢         ╱   K_c1__j         K_c2__1 + K_c2__2 + K_c2__3          0         ⎥\n⎢        ╱                                                                   ⎥\n⎢        ‾‾‾                                                                 ⎥\n⎢       j = 1                                                                ⎥\n⎢                                                                            ⎥\n⎢K_c2__1 + K_c2__2 + K_c2__3      K¹ₚₚ + K²ₚₚ + K³ₚₚ       K¹ₛ₂ + K²ₛ₂ + K³ₛ₂⎥\n⎢                                                                            ⎥\n⎢                                                              3             ⎥\n⎢                                                             ___            ⎥\n⎢                                                             ╲              ⎥\n⎢                                                              ╲             ⎥\n⎢             0                   K¹ₛ₂ + K²ₛ₂ + K³ₛ₂           ╱   K_s1__j   ⎥\n⎢                                                             ╱              ⎥\n⎢                                                             ‾‾‾            ⎥\n⎣                                                            j = 1           ⎦",
      "text/latex": "$\\displaystyle \\left[\\begin{matrix}\\sum_{j=1}^{3} K^{j}_{c1} & K^{1}_{c2} + K^{2}_{c2} + K^{3}_{c2} & 0\\\\K^{1}_{c2} + K^{2}_{c2} + K^{3}_{c2} & K^{1}_{pp} + K^{2}_{pp} + K^{3}_{pp} & K^{1}_{s2} + K^{2}_{s2} + K^{3}_{s2}\\\\0 & K^{1}_{s2} + K^{2}_{s2} + K^{3}_{s2} & \\sum_{j=1}^{3} K^{j}_{s1}\\end{matrix}\\right]$"
     },
     "metadata": {},
     "execution_count": 24
    }
   ],
   "source": [
    "K_m_C = pre_post(C, K_m)\n",
    "K_m_C"
   ]
  },
  {
   "cell_type": "markdown",
   "metadata": {},
   "source": [
    "## Adapting it to represent a parallel gear pair\n",
    "To do that, we should consider only the gear pair composed by the sun and the first planet gear. That can be done with the following matrix:"
   ]
  },
  {
   "cell_type": "code",
   "execution_count": 25,
   "metadata": {},
   "outputs": [
    {
     "output_type": "execute_result",
     "data": {
      "text/plain": "⎛                       ⎡q_c⎤⎞\n⎜                       ⎢   ⎥⎟\n⎜                       ⎢q₁ ⎥⎟\n⎜⎡q₁⎤  ⎡0  1  0  0  0⎤  ⎢   ⎥⎟\n⎜⎢  ⎥, ⎢             ⎥, ⎢q₂ ⎥⎟\n⎜⎣qₛ⎦  ⎣0  0  0  0  1⎦  ⎢   ⎥⎟\n⎜                       ⎢q₃ ⎥⎟\n⎜                       ⎢   ⎥⎟\n⎝                       ⎣qₛ ⎦⎠",
      "text/latex": "$\\displaystyle \\left( \\left[\\begin{matrix}q_{1}\\\\q_{s}\\end{matrix}\\right], \\  \\left[\\begin{matrix}0 & 1 & 0 & 0 & 0\\\\0 & 0 & 0 & 0 & 1\\end{matrix}\\right], \\  \\left[\\begin{matrix}q_{c}\\\\q_{1}\\\\q_{2}\\\\q_{3}\\\\q_{s}\\end{matrix}\\right]\\right)$"
     },
     "metadata": {},
     "execution_count": 25
    }
   ],
   "source": [
    "V = zeros(2, N_e)\n",
    "V[0, 1] = 1\n",
    "V[1, N_e - 1] = 1\n",
    "V = V.pinv()\n",
    "V.pinv()*S.pinv()*q, V.pinv(), S.pinv()*q "
   ]
  },
  {
   "cell_type": "markdown",
   "metadata": {},
   "source": [
    "where the indexes 1 and $s$ now represent the wheel and pinion gears, respectively.\n",
    "### Inertia matrix"
   ]
  },
  {
   "cell_type": "code",
   "execution_count": 26,
   "metadata": {},
   "outputs": [
    {
     "output_type": "execute_result",
     "data": {
      "text/plain": "⎡M₁  0 ⎤\n⎢      ⎥\n⎣0   Mₛ⎦",
      "text/latex": "$\\displaystyle \\left[\\begin{matrix}M_{1} & 0\\\\0 & M_{s}\\end{matrix}\\right]$"
     },
     "metadata": {},
     "execution_count": 26
    }
   ],
   "source": [
    "M_par = pre_post(V, M)\n",
    "M_par.subs([(symb('s',''), symb('w',''))])"
   ]
  },
  {
   "cell_type": "markdown",
   "metadata": {},
   "source": [
    "### Gyroscopic matrix"
   ]
  },
  {
   "cell_type": "code",
   "execution_count": 27,
   "metadata": {},
   "outputs": [
    {
     "output_type": "execute_result",
     "data": {
      "text/plain": "⎡G₁  0 ⎤\n⎢      ⎥\n⎣0   Gₛ⎦",
      "text/latex": "$\\displaystyle \\left[\\begin{matrix}G_{1} & 0\\\\0 & G_{s}\\end{matrix}\\right]$"
     },
     "metadata": {},
     "execution_count": 27
    }
   ],
   "source": [
    "G_par = pre_post(V, G)\n",
    "G_par"
   ]
  },
  {
   "cell_type": "markdown",
   "metadata": {},
   "source": [
    "### Stiffness matrix\n",
    "\n",
    "#### Centripetal component"
   ]
  },
  {
   "cell_type": "code",
   "execution_count": 28,
   "metadata": {},
   "outputs": [
    {
     "output_type": "execute_result",
     "data": {
      "text/plain": "⎡K_Omega1     0    ⎤\n⎢                  ⎥\n⎣   0      K_Omegas⎦",
      "text/latex": "$\\displaystyle \\left[\\begin{matrix}K_{Omega1} & 0\\\\0 & K_{Omegas}\\end{matrix}\\right]$"
     },
     "metadata": {},
     "execution_count": 28
    }
   ],
   "source": [
    "K_Omega_par = pre_post(V, K_Omega)\n",
    "K_Omega_par"
   ]
  },
  {
   "cell_type": "markdown",
   "metadata": {},
   "source": [
    "#### Bearing component"
   ]
  },
  {
   "cell_type": "code",
   "execution_count": 29,
   "metadata": {},
   "outputs": [
    {
     "output_type": "execute_result",
     "data": {
      "text/plain": "⎡0   0  ⎤\n⎢       ⎥\n⎣0  K_sb⎦",
      "text/latex": "$\\displaystyle \\left[\\begin{matrix}0 & 0\\\\0 & K_{sb}\\end{matrix}\\right]$"
     },
     "metadata": {},
     "execution_count": 29
    }
   ],
   "source": [
    "K_b_par = pre_post(V, K_b)\n",
    "K_b_par"
   ]
  },
  {
   "cell_type": "code",
   "execution_count": 30,
   "metadata": {},
   "outputs": [
    {
     "output_type": "execute_result",
     "data": {
      "text/plain": "⎡K¹ₚₚ  K¹ₛ₂⎤\n⎢          ⎥\n⎣K¹ₛ₂  K¹ₛ₁⎦",
      "text/latex": "$\\displaystyle \\left[\\begin{matrix}K^{1}_{pp} & K^{1}_{s2}\\\\K^{1}_{s2} & K^{1}_{s1}\\end{matrix}\\right]$"
     },
     "metadata": {},
     "execution_count": 30
    }
   ],
   "source": [
    "K_m_par = pre_post(V, K_m)\n",
    "K_m_par = K_m_par.as_mutable()\n",
    "K_m_par[1, 1] = symb('K', 's1', '^1')\n",
    "K_m_par"
   ]
  },
  {
   "cell_type": "markdown",
   "metadata": {},
   "source": [
    "Originally, the term $K_{pp}^1$ is given by:\n",
    "\\begin{align}\n",
    "    \\mathbf{K}_{pp}^n = \\mathbf{K}_{c3}^n + \\mathbf{K}_{r3}^n + \\mathbf{K}_{s3}^n,\n",
    "\\end{align}\n",
    "where:\n",
    "* $\\mathbf{K}_{c3}^n$ represents the bearing stiffness of the $n$-th planet gear\n",
    "* $\\mathbf{K}_{r3}^n$ represents the mesh stiffness of the $n$-th ring-planet gear pair\n",
    "* $\\mathbf{K}_{s3}^n$ represents the mesh stiffness of the $n$-th sun-planet gear pair\n",
    "\n",
    "For the current case of a parallel gear pair, the term $\\mathbf{K}_{r3}^n$ representing ring interactions should be excluded from $\\mathbf{K}_m$. Doing that leads to:"
   ]
  },
  {
   "cell_type": "code",
   "execution_count": 31,
   "metadata": {},
   "outputs": [
    {
     "output_type": "execute_result",
     "data": {
      "text/plain": "⎡K_c3__1 + K¹ₛ₃  K¹ₛ₂⎤\n⎢                    ⎥\n⎣     K¹ₛ₂       K¹ₛ₁⎦",
      "text/latex": "$\\displaystyle \\left[\\begin{matrix}K^{1}_{c3} + K^{1}_{s3} & K^{1}_{s2}\\\\K^{1}_{s2} & K^{1}_{s1}\\end{matrix}\\right]$"
     },
     "metadata": {},
     "execution_count": 31
    }
   ],
   "source": [
    "K_m_par[0, 0] = symb('K', 'c3', '^1') + symb('K', 's3', '^1')\n",
    "K_m_par"
   ]
  },
  {
   "cell_type": "markdown",
   "metadata": {},
   "source": [
    "## Submatrices of the mesh stiffness matrix $\\mathbf{K}_m$\n",
    "The following symplifying assumptions:\n",
    "* the pressure angles of sun and ring gears are equal, i.e. $\\alpha_s = \\alpha_r = \\alpha_n$\n",
    "* the mesh stiffness for the $N$ sun-planet pairs are equal, the same happens for the $N$ ring-planet pairs\n",
    "* the planetary gear is cyclically symmetric, with the $j$-th planet being at circumferential location $\\psi_j$, with:\n",
    "\\begin{align}\n",
    "    \\psi_j = (j - 1) \\psi, \\qquad \\psi = \\frac{2 \\pi}{N}\n",
    "\\end{align}"
   ]
  },
  {
   "cell_type": "code",
   "execution_count": 32,
   "metadata": {},
   "outputs": [
    {
     "output_type": "execute_result",
     "data": {
      "text/plain": "⎡        kₚ                  0          -kₚ⋅sin(ψ⋅(j - 1))⎤\n⎢                                                         ⎥\n⎢        0                  kₚ          kₚ⋅cos(ψ⋅(j - 1)) ⎥\n⎢                                                         ⎥\n⎣-kₚ⋅sin(ψ⋅(j - 1))  kₚ⋅cos(ψ⋅(j - 1))          kₚ        ⎦",
      "text/latex": "$\\displaystyle \\left[\\begin{matrix}k_{p} & 0 & - k_{p} \\sin{\\left(\\psi_{} \\left(j - 1\\right) \\right)}\\\\0 & k_{p} & k_{p} \\cos{\\left(\\psi_{} \\left(j - 1\\right) \\right)}\\\\- k_{p} \\sin{\\left(\\psi_{} \\left(j - 1\\right) \\right)} & k_{p} \\cos{\\left(\\psi_{} \\left(j - 1\\right) \\right)} & k_{p}\\end{matrix}\\right]$"
     },
     "metadata": {},
     "execution_count": 32
    }
   ],
   "source": [
    "psi_ = lambda j: (j - 1)*symb('psi', '')\n",
    "j = symbols('j', type = int)\n",
    "K_c1 = lambda x: symb('k', 'p')*Matrix([[ 1           , 0           , -sin(psi_(x))],\n",
    "                                        [ 0           , 1           ,  cos(psi_(x))],\n",
    "                                        [-sin(psi_(x)), cos(psi_(x)),  1           ]])\n",
    "k_tmp = K_c1(j)\n",
    "if(not k_tmp.is_symmetric()):\n",
    "    print('error.')\n",
    "k_tmp"
   ]
  },
  {
   "cell_type": "markdown",
   "metadata": {},
   "source": [
    "where $k_p$ is the planet bearing stiffness."
   ]
  },
  {
   "cell_type": "code",
   "execution_count": 33,
   "metadata": {},
   "outputs": [
    {
     "output_type": "execute_result",
     "data": {
      "text/plain": "⎡-kₚ⋅cos(ψ⋅(j - 1))  kₚ⋅sin(ψ⋅(j - 1))   0⎤\n⎢                                         ⎥\n⎢-kₚ⋅sin(ψ⋅(j - 1))  -kₚ⋅cos(ψ⋅(j - 1))  0⎥\n⎢                                         ⎥\n⎣        0                  -kₚ          0⎦",
      "text/latex": "$\\displaystyle \\left[\\begin{matrix}- k_{p} \\cos{\\left(\\psi_{} \\left(j - 1\\right) \\right)} & k_{p} \\sin{\\left(\\psi_{} \\left(j - 1\\right) \\right)} & 0\\\\- k_{p} \\sin{\\left(\\psi_{} \\left(j - 1\\right) \\right)} & - k_{p} \\cos{\\left(\\psi_{} \\left(j - 1\\right) \\right)} & 0\\\\0 & - k_{p} & 0\\end{matrix}\\right]$"
     },
     "metadata": {},
     "execution_count": 33
    }
   ],
   "source": [
    "K_c2 = lambda x: symb('k', 'p')*Matrix([[-cos(psi_(x)),  sin(psi_(x)), 0],\n",
    "                                        [-sin(psi_(x)), -cos(psi_(x)), 0],\n",
    "                                        [ 0           , -1           , 0]])\n",
    "k_tmp = K_c2(j)\n",
    "k_tmp"
   ]
  },
  {
   "cell_type": "code",
   "execution_count": 34,
   "metadata": {},
   "outputs": [
    {
     "output_type": "execute_result",
     "data": {
      "text/plain": "⎡kₚ  0   0⎤\n⎢         ⎥\n⎢0   kₚ  0⎥\n⎢         ⎥\n⎣0   0   0⎦",
      "text/latex": "$\\displaystyle \\left[\\begin{matrix}k_{p} & 0 & 0\\\\0 & k_{p} & 0\\\\0 & 0 & 0\\end{matrix}\\right]$"
     },
     "metadata": {},
     "execution_count": 34
    }
   ],
   "source": [
    "K_c3 = symb('k', 'p')*diag(1, 1, 0)\n",
    "K_c3"
   ]
  },
  {
   "cell_type": "markdown",
   "metadata": {},
   "source": [
    "Notice that the planet bearings are isotropic, presenting the same stiffness in directions $x$ and $y$, different from the other bearing stiffness submatrices that present different $x$, $y$, and $u$ components. One can rewrite the matrices $\\mathbf{K}_{ci}^n$ for anysotropic bearings in the following way:\n",
    "\\begin{align}\n",
    "    \\mathbf{K}_{ci}^n(\\mathrm{new}) = \\frac{1}{k_{pj}}\\mathbf{K}_{ci}^n(\\mathrm{old}) \\mathrm{diag}(k_{px}, k_{py}, k_{pu})\n",
    "\\end{align}"
   ]
  },
  {
   "cell_type": "code",
   "execution_count": 35,
   "metadata": {},
   "outputs": [
    {
     "output_type": "execute_result",
     "data": {
      "text/plain": "⎛⎡kₚₓ   0    -kₚₓ⋅sin(ψ⋅(j - 1))⎤  ⎡-kₚₓ⋅cos(ψ⋅(j - 1))    kₚₓ⋅sin(ψ⋅(j - 1)) \n⎜⎢                              ⎥  ⎢                                          \n⎜⎢ 0   k_py  k_py⋅cos(ψ⋅(j - 1))⎥, ⎢-k_py⋅sin(ψ⋅(j - 1))  -k_py⋅cos(ψ⋅(j - 1))\n⎜⎢                              ⎥  ⎢                                          \n⎝⎣ 0    0             0         ⎦  ⎣         0                     0          \n\n  0⎤  ⎡kₚₓ   0    0⎤⎞\n   ⎥  ⎢            ⎥⎟\n  0⎥, ⎢ 0   k_py  0⎥⎟\n   ⎥  ⎢            ⎥⎟\n  0⎦  ⎣ 0    0    0⎦⎠",
      "text/latex": "$\\displaystyle \\left( \\left[\\begin{matrix}k_{px} & 0 & - k_{px} \\sin{\\left(\\psi_{} \\left(j - 1\\right) \\right)}\\\\0 & k_{py} & k_{py} \\cos{\\left(\\psi_{} \\left(j - 1\\right) \\right)}\\\\0 & 0 & 0\\end{matrix}\\right], \\  \\left[\\begin{matrix}- k_{px} \\cos{\\left(\\psi_{} \\left(j - 1\\right) \\right)} & k_{px} \\sin{\\left(\\psi_{} \\left(j - 1\\right) \\right)} & 0\\\\- k_{py} \\sin{\\left(\\psi_{} \\left(j - 1\\right) \\right)} & - k_{py} \\cos{\\left(\\psi_{} \\left(j - 1\\right) \\right)} & 0\\\\0 & 0 & 0\\end{matrix}\\right], \\  \\left[\\begin{matrix}k_{px} & 0 & 0\\\\0 & k_{py} & 0\\\\0 & 0 & 0\\end{matrix}\\right]\\right)$"
     },
     "metadata": {},
     "execution_count": 35
    }
   ],
   "source": [
    "def K_c(i, j):\n",
    "    if(i == 1):\n",
    "        k_old = K_c1(j)\n",
    "    elif(i == 2):\n",
    "        k_old = K_c2(j)\n",
    "    elif(i == 3):\n",
    "        k_old = K_c3\n",
    "    else:\n",
    "        print('ERROR inf K_c(), i = {} is out of range.'.format(i))\n",
    "    \n",
    "    return (1/symb('k', 'p'))*diag(symb('k', 'p', 'x'), symb('k', 'p', 'y'), 0*symb('k', 'p', 'u'))*k_old\n",
    "    \n",
    "K_c(1, j), K_c(2, j), K_c(3, j)"
   ]
  },
  {
   "cell_type": "code",
   "execution_count": 36,
   "metadata": {},
   "outputs": [
    {
     "output_type": "execute_result",
     "data": {
      "text/plain": "⎡                2                                                            \n⎢          kᵣ⋅sin (αₙ + ψ⋅(j - 1))            -kᵣ⋅sin(αₙ + ψ⋅(j - 1))⋅cos(αₙ +\n⎢                                                                             \n⎢                                                             2               \n⎢-kᵣ⋅sin(αₙ + ψ⋅(j - 1))⋅cos(αₙ + ψ⋅(j - 1))            kᵣ⋅cos (αₙ + ψ⋅(j - 1)\n⎢                                                                             \n⎣          -kᵣ⋅sin(αₙ + ψ⋅(j - 1))                      kᵣ⋅cos(αₙ + ψ⋅(j - 1))\n\n                                    ⎤\n ψ⋅(j - 1))  -kᵣ⋅sin(αₙ + ψ⋅(j - 1))⎥\n                                    ⎥\n                                    ⎥\n)            kᵣ⋅cos(αₙ + ψ⋅(j - 1)) ⎥\n                                    ⎥\n                       kᵣ           ⎦",
      "text/latex": "$\\displaystyle \\left[\\begin{matrix}k_{r} \\sin^{2}{\\left(\\alpha_{n} + \\psi_{} \\left(j - 1\\right) \\right)} & - k_{r} \\sin{\\left(\\alpha_{n} + \\psi_{} \\left(j - 1\\right) \\right)} \\cos{\\left(\\alpha_{n} + \\psi_{} \\left(j - 1\\right) \\right)} & - k_{r} \\sin{\\left(\\alpha_{n} + \\psi_{} \\left(j - 1\\right) \\right)}\\\\- k_{r} \\sin{\\left(\\alpha_{n} + \\psi_{} \\left(j - 1\\right) \\right)} \\cos{\\left(\\alpha_{n} + \\psi_{} \\left(j - 1\\right) \\right)} & k_{r} \\cos^{2}{\\left(\\alpha_{n} + \\psi_{} \\left(j - 1\\right) \\right)} & k_{r} \\cos{\\left(\\alpha_{n} + \\psi_{} \\left(j - 1\\right) \\right)}\\\\- k_{r} \\sin{\\left(\\alpha_{n} + \\psi_{} \\left(j - 1\\right) \\right)} & k_{r} \\cos{\\left(\\alpha_{n} + \\psi_{} \\left(j - 1\\right) \\right)} & k_{r}\\end{matrix}\\right]$"
     },
     "metadata": {},
     "execution_count": 36
    }
   ],
   "source": [
    "psi, alpha_n = symbols('psi alpha_n', type = float)\n",
    "psi_s = lambda x: psi_(x) - alpha_n\n",
    "psi_r = lambda x: psi_(x) + alpha_n\n",
    "\n",
    "K_r1 = lambda x: symb('k', 'r')*Matrix([[               sin(psi_r(x))**2, -cos(psi_r(x))*sin(psi_r(x)), -sin(psi_r(x))],\n",
    "                                        [-cos(psi_r(x))*sin(psi_r(x))   ,  cos(psi_r(x))**2           ,  cos(psi_r(x))],\n",
    "                                        [-              sin(psi_r(x))   ,  cos(psi_r(x))              ,  1]])\n",
    "k_tmp = K_r1(j)\n",
    "if(not k_tmp.is_symmetric()):\n",
    "    print('error.')\n",
    "k_tmp"
   ]
  },
  {
   "cell_type": "markdown",
   "metadata": {},
   "source": [
    "where $k_{r}$ is the mesh stiffness between ring and planet gears."
   ]
  },
  {
   "cell_type": "code",
   "execution_count": 37,
   "metadata": {},
   "outputs": [
    {
     "output_type": "execute_result",
     "data": {
      "text/plain": "⎡-kᵣ⋅sin(αₙ)⋅sin(αₙ + ψ⋅(j - 1))  kᵣ⋅sin(αₙ + ψ⋅(j - 1))⋅cos(αₙ)   kᵣ⋅sin(αₙ +\n⎢                                                                             \n⎢kᵣ⋅sin(αₙ)⋅cos(αₙ + ψ⋅(j - 1))   -kᵣ⋅cos(αₙ)⋅cos(αₙ + ψ⋅(j - 1))  -kᵣ⋅cos(αₙ \n⎢                                                                             \n⎣          kᵣ⋅sin(αₙ)                       -kᵣ⋅cos(αₙ)                      -\n\n ψ⋅(j - 1)) ⎤\n            ⎥\n+ ψ⋅(j - 1))⎥\n            ⎥\nkᵣ          ⎦",
      "text/latex": "$\\displaystyle \\left[\\begin{matrix}- k_{r} \\sin{\\left(\\alpha_{n} \\right)} \\sin{\\left(\\alpha_{n} + \\psi_{} \\left(j - 1\\right) \\right)} & k_{r} \\sin{\\left(\\alpha_{n} + \\psi_{} \\left(j - 1\\right) \\right)} \\cos{\\left(\\alpha_{n} \\right)} & k_{r} \\sin{\\left(\\alpha_{n} + \\psi_{} \\left(j - 1\\right) \\right)}\\\\k_{r} \\sin{\\left(\\alpha_{n} \\right)} \\cos{\\left(\\alpha_{n} + \\psi_{} \\left(j - 1\\right) \\right)} & - k_{r} \\cos{\\left(\\alpha_{n} \\right)} \\cos{\\left(\\alpha_{n} + \\psi_{} \\left(j - 1\\right) \\right)} & - k_{r} \\cos{\\left(\\alpha_{n} + \\psi_{} \\left(j - 1\\right) \\right)}\\\\k_{r} \\sin{\\left(\\alpha_{n} \\right)} & - k_{r} \\cos{\\left(\\alpha_{n} \\right)} & - k_{r}\\end{matrix}\\right]$"
     },
     "metadata": {},
     "execution_count": 37
    }
   ],
   "source": [
    "K_r2 = lambda x: symb('k', 'r')*Matrix([[-sin(psi_r(x))*sin(alpha_n),  sin(psi_r(x))*cos(alpha_n),  sin(psi_r(x))],\n",
    "                                        [ cos(psi_r(x))*sin(alpha_n), -cos(psi_r(x))*cos(alpha_n), -cos(psi_r(x))],\n",
    "                                        [               sin(alpha_n), -              cos(alpha_n), -1]])\n",
    "k_tmp = K_r2(j)\n",
    "k_tmp"
   ]
  },
  {
   "cell_type": "code",
   "execution_count": 38,
   "metadata": {},
   "outputs": [
    {
     "output_type": "execute_result",
     "data": {
      "text/plain": "⎡          2                                          ⎤\n⎢    kᵣ⋅sin (αₙ)      -kᵣ⋅sin(αₙ)⋅cos(αₙ)  -kᵣ⋅sin(αₙ)⎥\n⎢                                                     ⎥\n⎢                               2                     ⎥\n⎢-kᵣ⋅sin(αₙ)⋅cos(αₙ)      kᵣ⋅cos (αₙ)      kᵣ⋅cos(αₙ) ⎥\n⎢                                                     ⎥\n⎣    -kᵣ⋅sin(αₙ)          kᵣ⋅cos(αₙ)           kᵣ     ⎦",
      "text/latex": "$\\displaystyle \\left[\\begin{matrix}k_{r} \\sin^{2}{\\left(\\alpha_{n} \\right)} & - k_{r} \\sin{\\left(\\alpha_{n} \\right)} \\cos{\\left(\\alpha_{n} \\right)} & - k_{r} \\sin{\\left(\\alpha_{n} \\right)}\\\\- k_{r} \\sin{\\left(\\alpha_{n} \\right)} \\cos{\\left(\\alpha_{n} \\right)} & k_{r} \\cos^{2}{\\left(\\alpha_{n} \\right)} & k_{r} \\cos{\\left(\\alpha_{n} \\right)}\\\\- k_{r} \\sin{\\left(\\alpha_{n} \\right)} & k_{r} \\cos{\\left(\\alpha_{n} \\right)} & k_{r}\\end{matrix}\\right]$"
     },
     "metadata": {},
     "execution_count": 38
    }
   ],
   "source": [
    "K_r3 = lambda x: symb('k', 'r')*Matrix([[ sin(alpha_n)**2          , -sin(alpha_n)*cos(alpha_n), -sin(alpha_n)],\n",
    "                                        [-sin(alpha_n)*cos(alpha_n),  cos(alpha_n)**2          ,  cos(alpha_n)],\n",
    "                                        [-sin(alpha_n)             ,  cos(alpha_n)             ,  1]])\n",
    "k_tmp = K_r3('j')\n",
    "if(not k_tmp.is_symmetric()):\n",
    "    print('error.')\n",
    "k_tmp"
   ]
  },
  {
   "cell_type": "code",
   "execution_count": 39,
   "metadata": {},
   "outputs": [
    {
     "output_type": "execute_result",
     "data": {
      "text/plain": "⎡               2                                                             \n⎢         kₛ⋅sin (αₙ - ψ⋅(j - 1))            kₛ⋅sin(αₙ - ψ⋅(j - 1))⋅cos(αₙ - ψ\n⎢                                                                             \n⎢                                                           2                 \n⎢kₛ⋅sin(αₙ - ψ⋅(j - 1))⋅cos(αₙ - ψ⋅(j - 1))           kₛ⋅cos (αₙ - ψ⋅(j - 1)) \n⎢                                                                             \n⎣          kₛ⋅sin(αₙ - ψ⋅(j - 1))                      kₛ⋅cos(αₙ - ψ⋅(j - 1)) \n\n                                 ⎤\n⋅(j - 1))  kₛ⋅sin(αₙ - ψ⋅(j - 1))⎥\n                                 ⎥\n                                 ⎥\n           kₛ⋅cos(αₙ - ψ⋅(j - 1))⎥\n                                 ⎥\n                     kₛ          ⎦",
      "text/latex": "$\\displaystyle \\left[\\begin{matrix}k_{s} \\sin^{2}{\\left(\\alpha_{n} - \\psi_{} \\left(j - 1\\right) \\right)} & k_{s} \\sin{\\left(\\alpha_{n} - \\psi_{} \\left(j - 1\\right) \\right)} \\cos{\\left(\\alpha_{n} - \\psi_{} \\left(j - 1\\right) \\right)} & k_{s} \\sin{\\left(\\alpha_{n} - \\psi_{} \\left(j - 1\\right) \\right)}\\\\k_{s} \\sin{\\left(\\alpha_{n} - \\psi_{} \\left(j - 1\\right) \\right)} \\cos{\\left(\\alpha_{n} - \\psi_{} \\left(j - 1\\right) \\right)} & k_{s} \\cos^{2}{\\left(\\alpha_{n} - \\psi_{} \\left(j - 1\\right) \\right)} & k_{s} \\cos{\\left(\\alpha_{n} - \\psi_{} \\left(j - 1\\right) \\right)}\\\\k_{s} \\sin{\\left(\\alpha_{n} - \\psi_{} \\left(j - 1\\right) \\right)} & k_{s} \\cos{\\left(\\alpha_{n} - \\psi_{} \\left(j - 1\\right) \\right)} & k_{s}\\end{matrix}\\right]$"
     },
     "metadata": {},
     "execution_count": 39
    }
   ],
   "source": [
    "K_s1 = lambda x: symb('k', 's')*Matrix([[               sin(psi_s(x))**2, -cos(psi_s(x))*sin(psi_s(x)), -sin(psi_s(x))],\n",
    "                                        [-cos(psi_s(x))*sin(psi_s(x))   ,  cos(psi_s(x))**2           ,  cos(psi_s(x))],\n",
    "                                        [-              sin(psi_s(x))   ,  cos(psi_s(x))              ,  1]])\n",
    "k_tmp = K_s1(j)\n",
    "if(not k_tmp.is_symmetric()):\n",
    "    print('error.')\n",
    "k_tmp"
   ]
  },
  {
   "cell_type": "markdown",
   "metadata": {},
   "source": [
    "where $k_{sj}$ is the mesh stiffness between the sun and the $j$-th planet"
   ]
  },
  {
   "cell_type": "code",
   "execution_count": 40,
   "metadata": {},
   "outputs": [
    {
     "output_type": "execute_result",
     "data": {
      "text/plain": "⎡-kₛ⋅sin(αₙ)⋅sin(αₙ - ψ⋅(j - 1))  -kₛ⋅sin(αₙ - ψ⋅(j - 1))⋅cos(αₙ)  kₛ⋅sin(αₙ -\n⎢                                                                             \n⎢-kₛ⋅sin(αₙ)⋅cos(αₙ - ψ⋅(j - 1))  -kₛ⋅cos(αₙ)⋅cos(αₙ - ψ⋅(j - 1))  kₛ⋅cos(αₙ -\n⎢                                                                             \n⎣          -kₛ⋅sin(αₙ)                      -kₛ⋅cos(αₙ)                      k\n\n ψ⋅(j - 1))⎤\n           ⎥\n ψ⋅(j - 1))⎥\n           ⎥\nₛ          ⎦",
      "text/latex": "$\\displaystyle \\left[\\begin{matrix}- k_{s} \\sin{\\left(\\alpha_{n} \\right)} \\sin{\\left(\\alpha_{n} - \\psi_{} \\left(j - 1\\right) \\right)} & - k_{s} \\sin{\\left(\\alpha_{n} - \\psi_{} \\left(j - 1\\right) \\right)} \\cos{\\left(\\alpha_{n} \\right)} & k_{s} \\sin{\\left(\\alpha_{n} - \\psi_{} \\left(j - 1\\right) \\right)}\\\\- k_{s} \\sin{\\left(\\alpha_{n} \\right)} \\cos{\\left(\\alpha_{n} - \\psi_{} \\left(j - 1\\right) \\right)} & - k_{s} \\cos{\\left(\\alpha_{n} \\right)} \\cos{\\left(\\alpha_{n} - \\psi_{} \\left(j - 1\\right) \\right)} & k_{s} \\cos{\\left(\\alpha_{n} - \\psi_{} \\left(j - 1\\right) \\right)}\\\\- k_{s} \\sin{\\left(\\alpha_{n} \\right)} & - k_{s} \\cos{\\left(\\alpha_{n} \\right)} & k_{s}\\end{matrix}\\right]$"
     },
     "metadata": {},
     "execution_count": 40
    }
   ],
   "source": [
    "K_s2 = lambda x: symb('k', 's')*Matrix([[ sin(psi_s(x))*sin(alpha_n),  sin(psi_s(x))*cos(alpha_n), -sin(psi_s(x))],\n",
    "                                        [-cos(psi_s(x))*sin(alpha_n), -cos(psi_s(x))*cos(alpha_n),  cos(psi_s(x))],\n",
    "                                        [-              sin(alpha_n), -              cos(alpha_n),  1]])\n",
    "K_s2(j)"
   ]
  },
  {
   "cell_type": "code",
   "execution_count": 41,
   "metadata": {},
   "outputs": [
    {
     "output_type": "execute_result",
     "data": {
      "text/plain": "⎡         2                                         ⎤\n⎢   kₛ⋅sin (αₙ)      kₛ⋅sin(αₙ)⋅cos(αₙ)  -kₛ⋅sin(αₙ)⎥\n⎢                                                   ⎥\n⎢                             2                     ⎥\n⎢kₛ⋅sin(αₙ)⋅cos(αₙ)     kₛ⋅cos (αₙ)      -kₛ⋅cos(αₙ)⎥\n⎢                                                   ⎥\n⎣   -kₛ⋅sin(αₙ)         -kₛ⋅cos(αₙ)          kₛ     ⎦",
      "text/latex": "$\\displaystyle \\left[\\begin{matrix}k_{s} \\sin^{2}{\\left(\\alpha_{n} \\right)} & k_{s} \\sin{\\left(\\alpha_{n} \\right)} \\cos{\\left(\\alpha_{n} \\right)} & - k_{s} \\sin{\\left(\\alpha_{n} \\right)}\\\\k_{s} \\sin{\\left(\\alpha_{n} \\right)} \\cos{\\left(\\alpha_{n} \\right)} & k_{s} \\cos^{2}{\\left(\\alpha_{n} \\right)} & - k_{s} \\cos{\\left(\\alpha_{n} \\right)}\\\\- k_{s} \\sin{\\left(\\alpha_{n} \\right)} & - k_{s} \\cos{\\left(\\alpha_{n} \\right)} & k_{s}\\end{matrix}\\right]$"
     },
     "metadata": {},
     "execution_count": 41
    }
   ],
   "source": [
    "K_s3 = lambda x: symb('k', 's')*Matrix([[ sin(alpha_n)**2          ,  sin(alpha_n)*cos(alpha_n), -sin(alpha_n)],\n",
    "                                        [ sin(alpha_n)*cos(alpha_n),  cos(alpha_n)**2          , -cos(alpha_n)],\n",
    "                                        [-sin(alpha_n)             , -cos(alpha_n)             ,  1]])\n",
    "k_tmp = K_s3(j)\n",
    "if(not k_tmp.is_symmetric()):\n",
    "    print('error.')\n",
    "k_tmp"
   ]
  },
  {
   "cell_type": "code",
   "execution_count": 42,
   "metadata": {},
   "outputs": [
    {
     "output_type": "execute_result",
     "data": {
      "text/plain": "⎡                2             2                                              \n⎢     kₚ + kᵣ⋅sin (αₙ) + kₛ⋅sin (αₙ)       -kᵣ⋅sin(αₙ)⋅cos(αₙ) + kₛ⋅sin(αₙ)⋅co\n⎢                                                                             \n⎢                                                          2             2    \n⎢-kᵣ⋅sin(αₙ)⋅cos(αₙ) + kₛ⋅sin(αₙ)⋅cos(αₙ)       kₚ + kᵣ⋅cos (αₙ) + kₛ⋅cos (αₙ)\n⎢                                                                             \n⎣        -kᵣ⋅sin(αₙ) - kₛ⋅sin(αₙ)                  kᵣ⋅cos(αₙ) - kₛ⋅cos(αₙ)    \n\n                               ⎤\ns(αₙ)  -kᵣ⋅sin(αₙ) - kₛ⋅sin(αₙ)⎥\n                               ⎥\n                               ⎥\n       kᵣ⋅cos(αₙ) - kₛ⋅cos(αₙ) ⎥\n                               ⎥\n               kᵣ + kₛ         ⎦",
      "text/latex": "$\\displaystyle \\left[\\begin{matrix}k_{p} + k_{r} \\sin^{2}{\\left(\\alpha_{n} \\right)} + k_{s} \\sin^{2}{\\left(\\alpha_{n} \\right)} & - k_{r} \\sin{\\left(\\alpha_{n} \\right)} \\cos{\\left(\\alpha_{n} \\right)} + k_{s} \\sin{\\left(\\alpha_{n} \\right)} \\cos{\\left(\\alpha_{n} \\right)} & - k_{r} \\sin{\\left(\\alpha_{n} \\right)} - k_{s} \\sin{\\left(\\alpha_{n} \\right)}\\\\- k_{r} \\sin{\\left(\\alpha_{n} \\right)} \\cos{\\left(\\alpha_{n} \\right)} + k_{s} \\sin{\\left(\\alpha_{n} \\right)} \\cos{\\left(\\alpha_{n} \\right)} & k_{p} + k_{r} \\cos^{2}{\\left(\\alpha_{n} \\right)} + k_{s} \\cos^{2}{\\left(\\alpha_{n} \\right)} & k_{r} \\cos{\\left(\\alpha_{n} \\right)} - k_{s} \\cos{\\left(\\alpha_{n} \\right)}\\\\- k_{r} \\sin{\\left(\\alpha_{n} \\right)} - k_{s} \\sin{\\left(\\alpha_{n} \\right)} & k_{r} \\cos{\\left(\\alpha_{n} \\right)} - k_{s} \\cos{\\left(\\alpha_{n} \\right)} & k_{r} + k_{s}\\end{matrix}\\right]$"
     },
     "metadata": {},
     "execution_count": 42
    }
   ],
   "source": [
    "K_pp = lambda x: K_c3 + K_r3(x) + K_s3(x)\n",
    "k_tmp = K_pp(j)\n",
    "if(not k_tmp.is_symmetric()):\n",
    "    print('error.')\n",
    "k_tmp"
   ]
  },
  {
   "cell_type": "markdown",
   "metadata": {},
   "source": [
    "## Rotational coordinates\n",
    "The rotation coordinates are:\n",
    "\\begin{align}\n",
    "u_j = r_j \\theta_j,\n",
    "\\end{align}\n",
    "where $\\theta_j$ and $r_j$ are the component rotation and the base radius of a component, respectively. For the planet carrier, one should use the center distance instead. One can write the equations of motion in terms of the component rotations, by using the following matrix:"
   ]
  },
  {
   "cell_type": "code",
   "execution_count": 43,
   "metadata": {},
   "outputs": [
    {
     "output_type": "execute_result",
     "data": {
      "text/plain": "⎡1  0   0 ⎤\n⎢         ⎥\n⎢0  1   0 ⎥\n⎢         ⎥\n⎣0  0  r_j⎦",
      "text/latex": "$\\displaystyle \\left[\\begin{matrix}1 & 0 & 0\\\\0 & 1 & 0\\\\0 & 0 & r_{j}\\end{matrix}\\right]$"
     },
     "metadata": {},
     "execution_count": 43
    }
   ],
   "source": [
    "R = lambda x: diag(1, 1, symb('r', x))\n",
    "R(j)"
   ]
  },
  {
   "cell_type": "markdown",
   "metadata": {},
   "source": [
    "### Inertia matrix"
   ]
  },
  {
   "cell_type": "code",
   "execution_count": 44,
   "metadata": {},
   "outputs": [
    {
     "output_type": "execute_result",
     "data": {
      "text/plain": "⎡m_j   0    0 ⎤\n⎢             ⎥\n⎢ 0   m_j   0 ⎥\n⎢             ⎥\n⎣ 0    0   I_j⎦",
      "text/latex": "$\\displaystyle \\left[\\begin{matrix}m_{j} & 0 & 0\\\\0 & m_{j} & 0\\\\0 & 0 & I_{j}\\end{matrix}\\right]$"
     },
     "metadata": {},
     "execution_count": 44
    }
   ],
   "source": [
    "pre_post(R(j), M_(j))"
   ]
  },
  {
   "cell_type": "markdown",
   "metadata": {},
   "source": [
    "This operation does not affect the gyroscopic and centripetal submatrices $\\mathbf{G}_j$ and $\\mathbf{K}_{\\Omega,j}$.\n",
    "\n",
    "### Stiffness matrices\n",
    "\n",
    "#### Centripetal component\n",
    "\n",
    "Not affected.\n",
    "\n",
    "#### Bearing component"
   ]
  },
  {
   "cell_type": "code",
   "execution_count": 45,
   "metadata": {},
   "outputs": [
    {
     "output_type": "execute_result",
     "data": {
      "text/plain": "⎡k_jx   0        0    ⎤\n⎢                     ⎥\n⎢ 0    k_jy      0    ⎥\n⎢                     ⎥\n⎢                    2⎥\n⎣ 0     0    k_ju⋅r_j ⎦",
      "text/latex": "$\\displaystyle \\left[\\begin{matrix}k_{jx} & 0 & 0\\\\0 & k_{jy} & 0\\\\0 & 0 & k_{ju} r_{j}^{2}\\end{matrix}\\right]$"
     },
     "metadata": {},
     "execution_count": 45
    }
   ],
   "source": [
    "pre_post(R(j), K_b_(j))"
   ]
  },
  {
   "cell_type": "markdown",
   "metadata": {},
   "source": [
    "#### Mesh component"
   ]
  },
  {
   "cell_type": "code",
   "execution_count": null,
   "metadata": {},
   "outputs": [],
   "source": []
  }
 ],
 "metadata": {
  "kernelspec": {
   "display_name": "Python 3.7.3 64-bit ('base': conda)",
   "language": "python",
   "name": "python37364bitbaseconda210f926cb548430eaeeaaca39b8496cc"
  },
  "language_info": {
   "codemirror_mode": {
    "name": "ipython",
    "version": 3
   },
   "file_extension": ".py",
   "mimetype": "text/x-python",
   "name": "python",
   "nbconvert_exporter": "python",
   "pygments_lexer": "ipython3",
   "version": "3.7.3-final"
  }
 },
 "nbformat": 4,
 "nbformat_minor": 4
}